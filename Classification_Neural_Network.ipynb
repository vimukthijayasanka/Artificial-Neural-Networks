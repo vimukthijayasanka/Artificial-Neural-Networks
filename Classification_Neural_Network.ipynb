{
  "nbformat": 4,
  "nbformat_minor": 0,
  "metadata": {
    "colab": {
      "provenance": [],
      "authorship_tag": "ABX9TyNPFSEg7mB/vZ5zGIzCP63d",
      "include_colab_link": true
    },
    "kernelspec": {
      "name": "python3",
      "display_name": "Python 3"
    },
    "language_info": {
      "name": "python"
    }
  },
  "cells": [
    {
      "cell_type": "markdown",
      "metadata": {
        "id": "view-in-github",
        "colab_type": "text"
      },
      "source": [
        "<a href=\"https://colab.research.google.com/github/vimukthijayasanka/Artificial-Neural-Networks/blob/main/Classification_Neural_Network.ipynb\" target=\"_parent\"><img src=\"https://colab.research.google.com/assets/colab-badge.svg\" alt=\"Open In Colab\"/></a>"
      ]
    },
    {
      "cell_type": "code",
      "execution_count": null,
      "metadata": {
        "colab": {
          "base_uri": "https://localhost:8080/"
        },
        "id": "HoOqGkitC9n3",
        "outputId": "5c566d69-124e-4d16-a861-9beca7845b81"
      },
      "outputs": [
        {
          "output_type": "stream",
          "name": "stdout",
          "text": [
            "Collecting opendatasets\n",
            "  Downloading opendatasets-0.1.22-py3-none-any.whl (15 kB)\n",
            "Requirement already satisfied: tqdm in /usr/local/lib/python3.10/dist-packages (from opendatasets) (4.66.4)\n",
            "Requirement already satisfied: kaggle in /usr/local/lib/python3.10/dist-packages (from opendatasets) (1.6.14)\n",
            "Requirement already satisfied: click in /usr/local/lib/python3.10/dist-packages (from opendatasets) (8.1.7)\n",
            "Requirement already satisfied: six>=1.10 in /usr/local/lib/python3.10/dist-packages (from kaggle->opendatasets) (1.16.0)\n",
            "Requirement already satisfied: certifi>=2023.7.22 in /usr/local/lib/python3.10/dist-packages (from kaggle->opendatasets) (2024.6.2)\n",
            "Requirement already satisfied: python-dateutil in /usr/local/lib/python3.10/dist-packages (from kaggle->opendatasets) (2.8.2)\n",
            "Requirement already satisfied: requests in /usr/local/lib/python3.10/dist-packages (from kaggle->opendatasets) (2.31.0)\n",
            "Requirement already satisfied: python-slugify in /usr/local/lib/python3.10/dist-packages (from kaggle->opendatasets) (8.0.4)\n",
            "Requirement already satisfied: urllib3 in /usr/local/lib/python3.10/dist-packages (from kaggle->opendatasets) (2.0.7)\n",
            "Requirement already satisfied: bleach in /usr/local/lib/python3.10/dist-packages (from kaggle->opendatasets) (6.1.0)\n",
            "Requirement already satisfied: webencodings in /usr/local/lib/python3.10/dist-packages (from bleach->kaggle->opendatasets) (0.5.1)\n",
            "Requirement already satisfied: text-unidecode>=1.3 in /usr/local/lib/python3.10/dist-packages (from python-slugify->kaggle->opendatasets) (1.3)\n",
            "Requirement already satisfied: charset-normalizer<4,>=2 in /usr/local/lib/python3.10/dist-packages (from requests->kaggle->opendatasets) (3.3.2)\n",
            "Requirement already satisfied: idna<4,>=2.5 in /usr/local/lib/python3.10/dist-packages (from requests->kaggle->opendatasets) (3.7)\n",
            "Installing collected packages: opendatasets\n",
            "Successfully installed opendatasets-0.1.22\n"
          ]
        }
      ],
      "source": [
        "!pip install opendatasets"
      ]
    },
    {
      "cell_type": "code",
      "source": [
        "import pandas as pd\n",
        "import matplotlib.pyplot as plt\n",
        "import tensorflow as tf\n",
        "import opendatasets as od"
      ],
      "metadata": {
        "id": "ssm6596LMG_N"
      },
      "execution_count": null,
      "outputs": []
    },
    {
      "cell_type": "code",
      "source": [
        "od.download('https://www.kaggle.com/datasets/saranpannasuriyaporn/male-female-height-and-weight?select=Training+set.csv')"
      ],
      "metadata": {
        "colab": {
          "base_uri": "https://localhost:8080/"
        },
        "id": "VDKXad1JMTvF",
        "outputId": "512a9f39-3627-43fc-d2c3-c205f690ae72"
      },
      "execution_count": null,
      "outputs": [
        {
          "output_type": "stream",
          "name": "stdout",
          "text": [
            "Skipping, found downloaded files in \"./male-female-height-and-weight\" (use force=True to force download)\n"
          ]
        }
      ]
    },
    {
      "cell_type": "code",
      "source": [
        "data = pd.read_csv('male-female-height-and-weight/Test set.csv')"
      ],
      "metadata": {
        "id": "X5B7BjbiMcLx"
      },
      "execution_count": null,
      "outputs": []
    },
    {
      "cell_type": "code",
      "source": [
        "data.head(10)"
      ],
      "metadata": {
        "colab": {
          "base_uri": "https://localhost:8080/",
          "height": 363
        },
        "id": "1cappaaWMoIW",
        "outputId": "53688ef4-fc3a-4fc5-9e68-817c9bc1545a"
      },
      "execution_count": null,
      "outputs": [
        {
          "output_type": "execute_result",
          "data": {
            "text/plain": [
              "       Height     Weight     Sex\n",
              "0  146.323241  59.861065  Female\n",
              "1  175.695412  77.863687    Male\n",
              "2  183.216164  72.131992    Male\n",
              "3  184.245269  77.546000    Male\n",
              "4  132.302261  55.188496  Female\n",
              "5  149.863914  66.055655  Female\n",
              "6  191.173088  83.631339    Male\n",
              "7  135.407174  47.014457  Female\n",
              "8  184.995763  71.935828    Male\n",
              "9  179.990887  65.920795    Male"
            ],
            "text/html": [
              "\n",
              "  <div id=\"df-26d95c9e-93ef-4a63-bbe3-0e7621b6a9d6\" class=\"colab-df-container\">\n",
              "    <div>\n",
              "<style scoped>\n",
              "    .dataframe tbody tr th:only-of-type {\n",
              "        vertical-align: middle;\n",
              "    }\n",
              "\n",
              "    .dataframe tbody tr th {\n",
              "        vertical-align: top;\n",
              "    }\n",
              "\n",
              "    .dataframe thead th {\n",
              "        text-align: right;\n",
              "    }\n",
              "</style>\n",
              "<table border=\"1\" class=\"dataframe\">\n",
              "  <thead>\n",
              "    <tr style=\"text-align: right;\">\n",
              "      <th></th>\n",
              "      <th>Height</th>\n",
              "      <th>Weight</th>\n",
              "      <th>Sex</th>\n",
              "    </tr>\n",
              "  </thead>\n",
              "  <tbody>\n",
              "    <tr>\n",
              "      <th>0</th>\n",
              "      <td>146.323241</td>\n",
              "      <td>59.861065</td>\n",
              "      <td>Female</td>\n",
              "    </tr>\n",
              "    <tr>\n",
              "      <th>1</th>\n",
              "      <td>175.695412</td>\n",
              "      <td>77.863687</td>\n",
              "      <td>Male</td>\n",
              "    </tr>\n",
              "    <tr>\n",
              "      <th>2</th>\n",
              "      <td>183.216164</td>\n",
              "      <td>72.131992</td>\n",
              "      <td>Male</td>\n",
              "    </tr>\n",
              "    <tr>\n",
              "      <th>3</th>\n",
              "      <td>184.245269</td>\n",
              "      <td>77.546000</td>\n",
              "      <td>Male</td>\n",
              "    </tr>\n",
              "    <tr>\n",
              "      <th>4</th>\n",
              "      <td>132.302261</td>\n",
              "      <td>55.188496</td>\n",
              "      <td>Female</td>\n",
              "    </tr>\n",
              "    <tr>\n",
              "      <th>5</th>\n",
              "      <td>149.863914</td>\n",
              "      <td>66.055655</td>\n",
              "      <td>Female</td>\n",
              "    </tr>\n",
              "    <tr>\n",
              "      <th>6</th>\n",
              "      <td>191.173088</td>\n",
              "      <td>83.631339</td>\n",
              "      <td>Male</td>\n",
              "    </tr>\n",
              "    <tr>\n",
              "      <th>7</th>\n",
              "      <td>135.407174</td>\n",
              "      <td>47.014457</td>\n",
              "      <td>Female</td>\n",
              "    </tr>\n",
              "    <tr>\n",
              "      <th>8</th>\n",
              "      <td>184.995763</td>\n",
              "      <td>71.935828</td>\n",
              "      <td>Male</td>\n",
              "    </tr>\n",
              "    <tr>\n",
              "      <th>9</th>\n",
              "      <td>179.990887</td>\n",
              "      <td>65.920795</td>\n",
              "      <td>Male</td>\n",
              "    </tr>\n",
              "  </tbody>\n",
              "</table>\n",
              "</div>\n",
              "    <div class=\"colab-df-buttons\">\n",
              "\n",
              "  <div class=\"colab-df-container\">\n",
              "    <button class=\"colab-df-convert\" onclick=\"convertToInteractive('df-26d95c9e-93ef-4a63-bbe3-0e7621b6a9d6')\"\n",
              "            title=\"Convert this dataframe to an interactive table.\"\n",
              "            style=\"display:none;\">\n",
              "\n",
              "  <svg xmlns=\"http://www.w3.org/2000/svg\" height=\"24px\" viewBox=\"0 -960 960 960\">\n",
              "    <path d=\"M120-120v-720h720v720H120Zm60-500h600v-160H180v160Zm220 220h160v-160H400v160Zm0 220h160v-160H400v160ZM180-400h160v-160H180v160Zm440 0h160v-160H620v160ZM180-180h160v-160H180v160Zm440 0h160v-160H620v160Z\"/>\n",
              "  </svg>\n",
              "    </button>\n",
              "\n",
              "  <style>\n",
              "    .colab-df-container {\n",
              "      display:flex;\n",
              "      gap: 12px;\n",
              "    }\n",
              "\n",
              "    .colab-df-convert {\n",
              "      background-color: #E8F0FE;\n",
              "      border: none;\n",
              "      border-radius: 50%;\n",
              "      cursor: pointer;\n",
              "      display: none;\n",
              "      fill: #1967D2;\n",
              "      height: 32px;\n",
              "      padding: 0 0 0 0;\n",
              "      width: 32px;\n",
              "    }\n",
              "\n",
              "    .colab-df-convert:hover {\n",
              "      background-color: #E2EBFA;\n",
              "      box-shadow: 0px 1px 2px rgba(60, 64, 67, 0.3), 0px 1px 3px 1px rgba(60, 64, 67, 0.15);\n",
              "      fill: #174EA6;\n",
              "    }\n",
              "\n",
              "    .colab-df-buttons div {\n",
              "      margin-bottom: 4px;\n",
              "    }\n",
              "\n",
              "    [theme=dark] .colab-df-convert {\n",
              "      background-color: #3B4455;\n",
              "      fill: #D2E3FC;\n",
              "    }\n",
              "\n",
              "    [theme=dark] .colab-df-convert:hover {\n",
              "      background-color: #434B5C;\n",
              "      box-shadow: 0px 1px 3px 1px rgba(0, 0, 0, 0.15);\n",
              "      filter: drop-shadow(0px 1px 2px rgba(0, 0, 0, 0.3));\n",
              "      fill: #FFFFFF;\n",
              "    }\n",
              "  </style>\n",
              "\n",
              "    <script>\n",
              "      const buttonEl =\n",
              "        document.querySelector('#df-26d95c9e-93ef-4a63-bbe3-0e7621b6a9d6 button.colab-df-convert');\n",
              "      buttonEl.style.display =\n",
              "        google.colab.kernel.accessAllowed ? 'block' : 'none';\n",
              "\n",
              "      async function convertToInteractive(key) {\n",
              "        const element = document.querySelector('#df-26d95c9e-93ef-4a63-bbe3-0e7621b6a9d6');\n",
              "        const dataTable =\n",
              "          await google.colab.kernel.invokeFunction('convertToInteractive',\n",
              "                                                    [key], {});\n",
              "        if (!dataTable) return;\n",
              "\n",
              "        const docLinkHtml = 'Like what you see? Visit the ' +\n",
              "          '<a target=\"_blank\" href=https://colab.research.google.com/notebooks/data_table.ipynb>data table notebook</a>'\n",
              "          + ' to learn more about interactive tables.';\n",
              "        element.innerHTML = '';\n",
              "        dataTable['output_type'] = 'display_data';\n",
              "        await google.colab.output.renderOutput(dataTable, element);\n",
              "        const docLink = document.createElement('div');\n",
              "        docLink.innerHTML = docLinkHtml;\n",
              "        element.appendChild(docLink);\n",
              "      }\n",
              "    </script>\n",
              "  </div>\n",
              "\n",
              "\n",
              "<div id=\"df-29860847-9dcf-457e-aa06-5a7f0cbf83ab\">\n",
              "  <button class=\"colab-df-quickchart\" onclick=\"quickchart('df-29860847-9dcf-457e-aa06-5a7f0cbf83ab')\"\n",
              "            title=\"Suggest charts\"\n",
              "            style=\"display:none;\">\n",
              "\n",
              "<svg xmlns=\"http://www.w3.org/2000/svg\" height=\"24px\"viewBox=\"0 0 24 24\"\n",
              "     width=\"24px\">\n",
              "    <g>\n",
              "        <path d=\"M19 3H5c-1.1 0-2 .9-2 2v14c0 1.1.9 2 2 2h14c1.1 0 2-.9 2-2V5c0-1.1-.9-2-2-2zM9 17H7v-7h2v7zm4 0h-2V7h2v10zm4 0h-2v-4h2v4z\"/>\n",
              "    </g>\n",
              "</svg>\n",
              "  </button>\n",
              "\n",
              "<style>\n",
              "  .colab-df-quickchart {\n",
              "      --bg-color: #E8F0FE;\n",
              "      --fill-color: #1967D2;\n",
              "      --hover-bg-color: #E2EBFA;\n",
              "      --hover-fill-color: #174EA6;\n",
              "      --disabled-fill-color: #AAA;\n",
              "      --disabled-bg-color: #DDD;\n",
              "  }\n",
              "\n",
              "  [theme=dark] .colab-df-quickchart {\n",
              "      --bg-color: #3B4455;\n",
              "      --fill-color: #D2E3FC;\n",
              "      --hover-bg-color: #434B5C;\n",
              "      --hover-fill-color: #FFFFFF;\n",
              "      --disabled-bg-color: #3B4455;\n",
              "      --disabled-fill-color: #666;\n",
              "  }\n",
              "\n",
              "  .colab-df-quickchart {\n",
              "    background-color: var(--bg-color);\n",
              "    border: none;\n",
              "    border-radius: 50%;\n",
              "    cursor: pointer;\n",
              "    display: none;\n",
              "    fill: var(--fill-color);\n",
              "    height: 32px;\n",
              "    padding: 0;\n",
              "    width: 32px;\n",
              "  }\n",
              "\n",
              "  .colab-df-quickchart:hover {\n",
              "    background-color: var(--hover-bg-color);\n",
              "    box-shadow: 0 1px 2px rgba(60, 64, 67, 0.3), 0 1px 3px 1px rgba(60, 64, 67, 0.15);\n",
              "    fill: var(--button-hover-fill-color);\n",
              "  }\n",
              "\n",
              "  .colab-df-quickchart-complete:disabled,\n",
              "  .colab-df-quickchart-complete:disabled:hover {\n",
              "    background-color: var(--disabled-bg-color);\n",
              "    fill: var(--disabled-fill-color);\n",
              "    box-shadow: none;\n",
              "  }\n",
              "\n",
              "  .colab-df-spinner {\n",
              "    border: 2px solid var(--fill-color);\n",
              "    border-color: transparent;\n",
              "    border-bottom-color: var(--fill-color);\n",
              "    animation:\n",
              "      spin 1s steps(1) infinite;\n",
              "  }\n",
              "\n",
              "  @keyframes spin {\n",
              "    0% {\n",
              "      border-color: transparent;\n",
              "      border-bottom-color: var(--fill-color);\n",
              "      border-left-color: var(--fill-color);\n",
              "    }\n",
              "    20% {\n",
              "      border-color: transparent;\n",
              "      border-left-color: var(--fill-color);\n",
              "      border-top-color: var(--fill-color);\n",
              "    }\n",
              "    30% {\n",
              "      border-color: transparent;\n",
              "      border-left-color: var(--fill-color);\n",
              "      border-top-color: var(--fill-color);\n",
              "      border-right-color: var(--fill-color);\n",
              "    }\n",
              "    40% {\n",
              "      border-color: transparent;\n",
              "      border-right-color: var(--fill-color);\n",
              "      border-top-color: var(--fill-color);\n",
              "    }\n",
              "    60% {\n",
              "      border-color: transparent;\n",
              "      border-right-color: var(--fill-color);\n",
              "    }\n",
              "    80% {\n",
              "      border-color: transparent;\n",
              "      border-right-color: var(--fill-color);\n",
              "      border-bottom-color: var(--fill-color);\n",
              "    }\n",
              "    90% {\n",
              "      border-color: transparent;\n",
              "      border-bottom-color: var(--fill-color);\n",
              "    }\n",
              "  }\n",
              "</style>\n",
              "\n",
              "  <script>\n",
              "    async function quickchart(key) {\n",
              "      const quickchartButtonEl =\n",
              "        document.querySelector('#' + key + ' button');\n",
              "      quickchartButtonEl.disabled = true;  // To prevent multiple clicks.\n",
              "      quickchartButtonEl.classList.add('colab-df-spinner');\n",
              "      try {\n",
              "        const charts = await google.colab.kernel.invokeFunction(\n",
              "            'suggestCharts', [key], {});\n",
              "      } catch (error) {\n",
              "        console.error('Error during call to suggestCharts:', error);\n",
              "      }\n",
              "      quickchartButtonEl.classList.remove('colab-df-spinner');\n",
              "      quickchartButtonEl.classList.add('colab-df-quickchart-complete');\n",
              "    }\n",
              "    (() => {\n",
              "      let quickchartButtonEl =\n",
              "        document.querySelector('#df-29860847-9dcf-457e-aa06-5a7f0cbf83ab button');\n",
              "      quickchartButtonEl.style.display =\n",
              "        google.colab.kernel.accessAllowed ? 'block' : 'none';\n",
              "    })();\n",
              "  </script>\n",
              "</div>\n",
              "\n",
              "    </div>\n",
              "  </div>\n"
            ],
            "application/vnd.google.colaboratory.intrinsic+json": {
              "type": "dataframe",
              "variable_name": "data",
              "summary": "{\n  \"name\": \"data\",\n  \"rows\": 205,\n  \"fields\": [\n    {\n      \"column\": \"Height\",\n      \"properties\": {\n        \"dtype\": \"number\",\n        \"std\": 15.171040259805531,\n        \"min\": 123.0070061,\n        \"max\": 199.2822511,\n        \"num_unique_values\": 205,\n        \"samples\": [\n          147.1984523,\n          179.9908867,\n          179.9941395\n        ],\n        \"semantic_type\": \"\",\n        \"description\": \"\"\n      }\n    },\n    {\n      \"column\": \"Weight\",\n      \"properties\": {\n        \"dtype\": \"number\",\n        \"std\": 15.462395961642518,\n        \"min\": 34.72666609,\n        \"max\": 129.410122,\n        \"num_unique_values\": 205,\n        \"samples\": [\n          74.90954714,\n          65.92079489,\n          82.91463154\n        ],\n        \"semantic_type\": \"\",\n        \"description\": \"\"\n      }\n    },\n    {\n      \"column\": \"Sex\",\n      \"properties\": {\n        \"dtype\": \"category\",\n        \"num_unique_values\": 2,\n        \"samples\": [\n          \"Male\",\n          \"Female\"\n        ],\n        \"semantic_type\": \"\",\n        \"description\": \"\"\n      }\n    }\n  ]\n}"
            }
          },
          "metadata": {},
          "execution_count": 148
        }
      ]
    },
    {
      "cell_type": "code",
      "source": [
        "data.shape"
      ],
      "metadata": {
        "colab": {
          "base_uri": "https://localhost:8080/"
        },
        "id": "wwlQxL9SNC8C",
        "outputId": "4f216ff9-2400-438a-8d34-249b72fd6627"
      },
      "execution_count": null,
      "outputs": [
        {
          "output_type": "execute_result",
          "data": {
            "text/plain": [
              "(205, 3)"
            ]
          },
          "metadata": {},
          "execution_count": 149
        }
      ]
    },
    {
      "cell_type": "code",
      "source": [
        "data.replace({'Sex':{'Male':1, 'Female': 0}},inplace =True)"
      ],
      "metadata": {
        "id": "KezlpSZrNFOj"
      },
      "execution_count": null,
      "outputs": []
    },
    {
      "cell_type": "code",
      "source": [
        "data"
      ],
      "metadata": {
        "colab": {
          "base_uri": "https://localhost:8080/",
          "height": 423
        },
        "id": "sr_kgSkgXs6Q",
        "outputId": "65a3c581-d5b2-485b-a0f0-08bd1c4b52a2"
      },
      "execution_count": null,
      "outputs": [
        {
          "output_type": "execute_result",
          "data": {
            "text/plain": [
              "         Height     Weight  Sex\n",
              "0    146.323241  59.861065    0\n",
              "1    175.695412  77.863687    1\n",
              "2    183.216164  72.131992    1\n",
              "3    184.245269  77.546000    1\n",
              "4    132.302261  55.188496    0\n",
              "..          ...        ...  ...\n",
              "200  155.090314  77.248911    0\n",
              "201  149.175907  93.231692    1\n",
              "202  168.030874  63.640623    0\n",
              "203  172.608090  55.189983    1\n",
              "204  145.082128  45.583285    0\n",
              "\n",
              "[205 rows x 3 columns]"
            ],
            "text/html": [
              "\n",
              "  <div id=\"df-a503ff7d-4828-49b6-bf6e-1e3975537ab2\" class=\"colab-df-container\">\n",
              "    <div>\n",
              "<style scoped>\n",
              "    .dataframe tbody tr th:only-of-type {\n",
              "        vertical-align: middle;\n",
              "    }\n",
              "\n",
              "    .dataframe tbody tr th {\n",
              "        vertical-align: top;\n",
              "    }\n",
              "\n",
              "    .dataframe thead th {\n",
              "        text-align: right;\n",
              "    }\n",
              "</style>\n",
              "<table border=\"1\" class=\"dataframe\">\n",
              "  <thead>\n",
              "    <tr style=\"text-align: right;\">\n",
              "      <th></th>\n",
              "      <th>Height</th>\n",
              "      <th>Weight</th>\n",
              "      <th>Sex</th>\n",
              "    </tr>\n",
              "  </thead>\n",
              "  <tbody>\n",
              "    <tr>\n",
              "      <th>0</th>\n",
              "      <td>146.323241</td>\n",
              "      <td>59.861065</td>\n",
              "      <td>0</td>\n",
              "    </tr>\n",
              "    <tr>\n",
              "      <th>1</th>\n",
              "      <td>175.695412</td>\n",
              "      <td>77.863687</td>\n",
              "      <td>1</td>\n",
              "    </tr>\n",
              "    <tr>\n",
              "      <th>2</th>\n",
              "      <td>183.216164</td>\n",
              "      <td>72.131992</td>\n",
              "      <td>1</td>\n",
              "    </tr>\n",
              "    <tr>\n",
              "      <th>3</th>\n",
              "      <td>184.245269</td>\n",
              "      <td>77.546000</td>\n",
              "      <td>1</td>\n",
              "    </tr>\n",
              "    <tr>\n",
              "      <th>4</th>\n",
              "      <td>132.302261</td>\n",
              "      <td>55.188496</td>\n",
              "      <td>0</td>\n",
              "    </tr>\n",
              "    <tr>\n",
              "      <th>...</th>\n",
              "      <td>...</td>\n",
              "      <td>...</td>\n",
              "      <td>...</td>\n",
              "    </tr>\n",
              "    <tr>\n",
              "      <th>200</th>\n",
              "      <td>155.090314</td>\n",
              "      <td>77.248911</td>\n",
              "      <td>0</td>\n",
              "    </tr>\n",
              "    <tr>\n",
              "      <th>201</th>\n",
              "      <td>149.175907</td>\n",
              "      <td>93.231692</td>\n",
              "      <td>1</td>\n",
              "    </tr>\n",
              "    <tr>\n",
              "      <th>202</th>\n",
              "      <td>168.030874</td>\n",
              "      <td>63.640623</td>\n",
              "      <td>0</td>\n",
              "    </tr>\n",
              "    <tr>\n",
              "      <th>203</th>\n",
              "      <td>172.608090</td>\n",
              "      <td>55.189983</td>\n",
              "      <td>1</td>\n",
              "    </tr>\n",
              "    <tr>\n",
              "      <th>204</th>\n",
              "      <td>145.082128</td>\n",
              "      <td>45.583285</td>\n",
              "      <td>0</td>\n",
              "    </tr>\n",
              "  </tbody>\n",
              "</table>\n",
              "<p>205 rows × 3 columns</p>\n",
              "</div>\n",
              "    <div class=\"colab-df-buttons\">\n",
              "\n",
              "  <div class=\"colab-df-container\">\n",
              "    <button class=\"colab-df-convert\" onclick=\"convertToInteractive('df-a503ff7d-4828-49b6-bf6e-1e3975537ab2')\"\n",
              "            title=\"Convert this dataframe to an interactive table.\"\n",
              "            style=\"display:none;\">\n",
              "\n",
              "  <svg xmlns=\"http://www.w3.org/2000/svg\" height=\"24px\" viewBox=\"0 -960 960 960\">\n",
              "    <path d=\"M120-120v-720h720v720H120Zm60-500h600v-160H180v160Zm220 220h160v-160H400v160Zm0 220h160v-160H400v160ZM180-400h160v-160H180v160Zm440 0h160v-160H620v160ZM180-180h160v-160H180v160Zm440 0h160v-160H620v160Z\"/>\n",
              "  </svg>\n",
              "    </button>\n",
              "\n",
              "  <style>\n",
              "    .colab-df-container {\n",
              "      display:flex;\n",
              "      gap: 12px;\n",
              "    }\n",
              "\n",
              "    .colab-df-convert {\n",
              "      background-color: #E8F0FE;\n",
              "      border: none;\n",
              "      border-radius: 50%;\n",
              "      cursor: pointer;\n",
              "      display: none;\n",
              "      fill: #1967D2;\n",
              "      height: 32px;\n",
              "      padding: 0 0 0 0;\n",
              "      width: 32px;\n",
              "    }\n",
              "\n",
              "    .colab-df-convert:hover {\n",
              "      background-color: #E2EBFA;\n",
              "      box-shadow: 0px 1px 2px rgba(60, 64, 67, 0.3), 0px 1px 3px 1px rgba(60, 64, 67, 0.15);\n",
              "      fill: #174EA6;\n",
              "    }\n",
              "\n",
              "    .colab-df-buttons div {\n",
              "      margin-bottom: 4px;\n",
              "    }\n",
              "\n",
              "    [theme=dark] .colab-df-convert {\n",
              "      background-color: #3B4455;\n",
              "      fill: #D2E3FC;\n",
              "    }\n",
              "\n",
              "    [theme=dark] .colab-df-convert:hover {\n",
              "      background-color: #434B5C;\n",
              "      box-shadow: 0px 1px 3px 1px rgba(0, 0, 0, 0.15);\n",
              "      filter: drop-shadow(0px 1px 2px rgba(0, 0, 0, 0.3));\n",
              "      fill: #FFFFFF;\n",
              "    }\n",
              "  </style>\n",
              "\n",
              "    <script>\n",
              "      const buttonEl =\n",
              "        document.querySelector('#df-a503ff7d-4828-49b6-bf6e-1e3975537ab2 button.colab-df-convert');\n",
              "      buttonEl.style.display =\n",
              "        google.colab.kernel.accessAllowed ? 'block' : 'none';\n",
              "\n",
              "      async function convertToInteractive(key) {\n",
              "        const element = document.querySelector('#df-a503ff7d-4828-49b6-bf6e-1e3975537ab2');\n",
              "        const dataTable =\n",
              "          await google.colab.kernel.invokeFunction('convertToInteractive',\n",
              "                                                    [key], {});\n",
              "        if (!dataTable) return;\n",
              "\n",
              "        const docLinkHtml = 'Like what you see? Visit the ' +\n",
              "          '<a target=\"_blank\" href=https://colab.research.google.com/notebooks/data_table.ipynb>data table notebook</a>'\n",
              "          + ' to learn more about interactive tables.';\n",
              "        element.innerHTML = '';\n",
              "        dataTable['output_type'] = 'display_data';\n",
              "        await google.colab.output.renderOutput(dataTable, element);\n",
              "        const docLink = document.createElement('div');\n",
              "        docLink.innerHTML = docLinkHtml;\n",
              "        element.appendChild(docLink);\n",
              "      }\n",
              "    </script>\n",
              "  </div>\n",
              "\n",
              "\n",
              "<div id=\"df-ccff36b9-e3d0-4c73-81f9-3e59e6fc68a9\">\n",
              "  <button class=\"colab-df-quickchart\" onclick=\"quickchart('df-ccff36b9-e3d0-4c73-81f9-3e59e6fc68a9')\"\n",
              "            title=\"Suggest charts\"\n",
              "            style=\"display:none;\">\n",
              "\n",
              "<svg xmlns=\"http://www.w3.org/2000/svg\" height=\"24px\"viewBox=\"0 0 24 24\"\n",
              "     width=\"24px\">\n",
              "    <g>\n",
              "        <path d=\"M19 3H5c-1.1 0-2 .9-2 2v14c0 1.1.9 2 2 2h14c1.1 0 2-.9 2-2V5c0-1.1-.9-2-2-2zM9 17H7v-7h2v7zm4 0h-2V7h2v10zm4 0h-2v-4h2v4z\"/>\n",
              "    </g>\n",
              "</svg>\n",
              "  </button>\n",
              "\n",
              "<style>\n",
              "  .colab-df-quickchart {\n",
              "      --bg-color: #E8F0FE;\n",
              "      --fill-color: #1967D2;\n",
              "      --hover-bg-color: #E2EBFA;\n",
              "      --hover-fill-color: #174EA6;\n",
              "      --disabled-fill-color: #AAA;\n",
              "      --disabled-bg-color: #DDD;\n",
              "  }\n",
              "\n",
              "  [theme=dark] .colab-df-quickchart {\n",
              "      --bg-color: #3B4455;\n",
              "      --fill-color: #D2E3FC;\n",
              "      --hover-bg-color: #434B5C;\n",
              "      --hover-fill-color: #FFFFFF;\n",
              "      --disabled-bg-color: #3B4455;\n",
              "      --disabled-fill-color: #666;\n",
              "  }\n",
              "\n",
              "  .colab-df-quickchart {\n",
              "    background-color: var(--bg-color);\n",
              "    border: none;\n",
              "    border-radius: 50%;\n",
              "    cursor: pointer;\n",
              "    display: none;\n",
              "    fill: var(--fill-color);\n",
              "    height: 32px;\n",
              "    padding: 0;\n",
              "    width: 32px;\n",
              "  }\n",
              "\n",
              "  .colab-df-quickchart:hover {\n",
              "    background-color: var(--hover-bg-color);\n",
              "    box-shadow: 0 1px 2px rgba(60, 64, 67, 0.3), 0 1px 3px 1px rgba(60, 64, 67, 0.15);\n",
              "    fill: var(--button-hover-fill-color);\n",
              "  }\n",
              "\n",
              "  .colab-df-quickchart-complete:disabled,\n",
              "  .colab-df-quickchart-complete:disabled:hover {\n",
              "    background-color: var(--disabled-bg-color);\n",
              "    fill: var(--disabled-fill-color);\n",
              "    box-shadow: none;\n",
              "  }\n",
              "\n",
              "  .colab-df-spinner {\n",
              "    border: 2px solid var(--fill-color);\n",
              "    border-color: transparent;\n",
              "    border-bottom-color: var(--fill-color);\n",
              "    animation:\n",
              "      spin 1s steps(1) infinite;\n",
              "  }\n",
              "\n",
              "  @keyframes spin {\n",
              "    0% {\n",
              "      border-color: transparent;\n",
              "      border-bottom-color: var(--fill-color);\n",
              "      border-left-color: var(--fill-color);\n",
              "    }\n",
              "    20% {\n",
              "      border-color: transparent;\n",
              "      border-left-color: var(--fill-color);\n",
              "      border-top-color: var(--fill-color);\n",
              "    }\n",
              "    30% {\n",
              "      border-color: transparent;\n",
              "      border-left-color: var(--fill-color);\n",
              "      border-top-color: var(--fill-color);\n",
              "      border-right-color: var(--fill-color);\n",
              "    }\n",
              "    40% {\n",
              "      border-color: transparent;\n",
              "      border-right-color: var(--fill-color);\n",
              "      border-top-color: var(--fill-color);\n",
              "    }\n",
              "    60% {\n",
              "      border-color: transparent;\n",
              "      border-right-color: var(--fill-color);\n",
              "    }\n",
              "    80% {\n",
              "      border-color: transparent;\n",
              "      border-right-color: var(--fill-color);\n",
              "      border-bottom-color: var(--fill-color);\n",
              "    }\n",
              "    90% {\n",
              "      border-color: transparent;\n",
              "      border-bottom-color: var(--fill-color);\n",
              "    }\n",
              "  }\n",
              "</style>\n",
              "\n",
              "  <script>\n",
              "    async function quickchart(key) {\n",
              "      const quickchartButtonEl =\n",
              "        document.querySelector('#' + key + ' button');\n",
              "      quickchartButtonEl.disabled = true;  // To prevent multiple clicks.\n",
              "      quickchartButtonEl.classList.add('colab-df-spinner');\n",
              "      try {\n",
              "        const charts = await google.colab.kernel.invokeFunction(\n",
              "            'suggestCharts', [key], {});\n",
              "      } catch (error) {\n",
              "        console.error('Error during call to suggestCharts:', error);\n",
              "      }\n",
              "      quickchartButtonEl.classList.remove('colab-df-spinner');\n",
              "      quickchartButtonEl.classList.add('colab-df-quickchart-complete');\n",
              "    }\n",
              "    (() => {\n",
              "      let quickchartButtonEl =\n",
              "        document.querySelector('#df-ccff36b9-e3d0-4c73-81f9-3e59e6fc68a9 button');\n",
              "      quickchartButtonEl.style.display =\n",
              "        google.colab.kernel.accessAllowed ? 'block' : 'none';\n",
              "    })();\n",
              "  </script>\n",
              "</div>\n",
              "\n",
              "  <div id=\"id_5d22e29b-4049-4f66-bcac-fd9b10b3e7e5\">\n",
              "    <style>\n",
              "      .colab-df-generate {\n",
              "        background-color: #E8F0FE;\n",
              "        border: none;\n",
              "        border-radius: 50%;\n",
              "        cursor: pointer;\n",
              "        display: none;\n",
              "        fill: #1967D2;\n",
              "        height: 32px;\n",
              "        padding: 0 0 0 0;\n",
              "        width: 32px;\n",
              "      }\n",
              "\n",
              "      .colab-df-generate:hover {\n",
              "        background-color: #E2EBFA;\n",
              "        box-shadow: 0px 1px 2px rgba(60, 64, 67, 0.3), 0px 1px 3px 1px rgba(60, 64, 67, 0.15);\n",
              "        fill: #174EA6;\n",
              "      }\n",
              "\n",
              "      [theme=dark] .colab-df-generate {\n",
              "        background-color: #3B4455;\n",
              "        fill: #D2E3FC;\n",
              "      }\n",
              "\n",
              "      [theme=dark] .colab-df-generate:hover {\n",
              "        background-color: #434B5C;\n",
              "        box-shadow: 0px 1px 3px 1px rgba(0, 0, 0, 0.15);\n",
              "        filter: drop-shadow(0px 1px 2px rgba(0, 0, 0, 0.3));\n",
              "        fill: #FFFFFF;\n",
              "      }\n",
              "    </style>\n",
              "    <button class=\"colab-df-generate\" onclick=\"generateWithVariable('data')\"\n",
              "            title=\"Generate code using this dataframe.\"\n",
              "            style=\"display:none;\">\n",
              "\n",
              "  <svg xmlns=\"http://www.w3.org/2000/svg\" height=\"24px\"viewBox=\"0 0 24 24\"\n",
              "       width=\"24px\">\n",
              "    <path d=\"M7,19H8.4L18.45,9,17,7.55,7,17.6ZM5,21V16.75L18.45,3.32a2,2,0,0,1,2.83,0l1.4,1.43a1.91,1.91,0,0,1,.58,1.4,1.91,1.91,0,0,1-.58,1.4L9.25,21ZM18.45,9,17,7.55Zm-12,3A5.31,5.31,0,0,0,4.9,8.1,5.31,5.31,0,0,0,1,6.5,5.31,5.31,0,0,0,4.9,4.9,5.31,5.31,0,0,0,6.5,1,5.31,5.31,0,0,0,8.1,4.9,5.31,5.31,0,0,0,12,6.5,5.46,5.46,0,0,0,6.5,12Z\"/>\n",
              "  </svg>\n",
              "    </button>\n",
              "    <script>\n",
              "      (() => {\n",
              "      const buttonEl =\n",
              "        document.querySelector('#id_5d22e29b-4049-4f66-bcac-fd9b10b3e7e5 button.colab-df-generate');\n",
              "      buttonEl.style.display =\n",
              "        google.colab.kernel.accessAllowed ? 'block' : 'none';\n",
              "\n",
              "      buttonEl.onclick = () => {\n",
              "        google.colab.notebook.generateWithVariable('data');\n",
              "      }\n",
              "      })();\n",
              "    </script>\n",
              "  </div>\n",
              "\n",
              "    </div>\n",
              "  </div>\n"
            ],
            "application/vnd.google.colaboratory.intrinsic+json": {
              "type": "dataframe",
              "variable_name": "data",
              "summary": "{\n  \"name\": \"data\",\n  \"rows\": 205,\n  \"fields\": [\n    {\n      \"column\": \"Height\",\n      \"properties\": {\n        \"dtype\": \"number\",\n        \"std\": 15.171040259805531,\n        \"min\": 123.0070061,\n        \"max\": 199.2822511,\n        \"num_unique_values\": 205,\n        \"samples\": [\n          147.1984523,\n          179.9908867,\n          179.9941395\n        ],\n        \"semantic_type\": \"\",\n        \"description\": \"\"\n      }\n    },\n    {\n      \"column\": \"Weight\",\n      \"properties\": {\n        \"dtype\": \"number\",\n        \"std\": 15.462395961642518,\n        \"min\": 34.72666609,\n        \"max\": 129.410122,\n        \"num_unique_values\": 205,\n        \"samples\": [\n          74.90954714,\n          65.92079489,\n          82.91463154\n        ],\n        \"semantic_type\": \"\",\n        \"description\": \"\"\n      }\n    },\n    {\n      \"column\": \"Sex\",\n      \"properties\": {\n        \"dtype\": \"number\",\n        \"std\": 0,\n        \"min\": 0,\n        \"max\": 1,\n        \"num_unique_values\": 2,\n        \"samples\": [\n          1,\n          0\n        ],\n        \"semantic_type\": \"\",\n        \"description\": \"\"\n      }\n    }\n  ]\n}"
            }
          },
          "metadata": {},
          "execution_count": 151
        }
      ]
    },
    {
      "cell_type": "code",
      "source": [
        "from sklearn.preprocessing import MinMaxScaler\n",
        "scaler = MinMaxScaler()\n",
        "X_scaled = scaler.fit_transform(data)\n",
        "data = pd.DataFrame(X_scaled, columns=data.columns)"
      ],
      "metadata": {
        "id": "cNXFwCUCgTTM"
      },
      "execution_count": null,
      "outputs": []
    },
    {
      "cell_type": "code",
      "source": [
        "X = data.drop(columns=['Sex'])\n",
        "y = data['Sex']"
      ],
      "metadata": {
        "id": "v-dijMZQXux_"
      },
      "execution_count": null,
      "outputs": []
    },
    {
      "cell_type": "code",
      "source": [
        "y = y.astype('int')"
      ],
      "metadata": {
        "id": "ssyvbm1ib9hm"
      },
      "execution_count": null,
      "outputs": []
    },
    {
      "cell_type": "code",
      "source": [
        "plt.scatter(X['Height'],X['Weight'],c=y)\n",
        "plt.xlabel('Height')\n",
        "plt.ylabel('Weight')\n",
        "plt.colorbar()\n",
        "plt.show()"
      ],
      "metadata": {
        "colab": {
          "base_uri": "https://localhost:8080/",
          "height": 455
        },
        "id": "yAyzNZBpYBC2",
        "outputId": "efc99f9b-520e-44f7-afd1-44744dcd191a"
      },
      "execution_count": null,
      "outputs": [
        {
          "output_type": "display_data",
          "data": {
            "text/plain": [
              "<Figure size 640x480 with 2 Axes>"
            ],
            "image/png": "[encoded data removed]"
          },
          "metadata": {}
        }
      ]
    },
    {
      "cell_type": "code",
      "source": [
        "from sklearn.model_selection import train_test_split\n",
        "X_train, X_test, y_train, y_test = train_test_split(X, y, test_size=0.2, random_state=42)"
      ],
      "metadata": {
        "id": "rgODG3wFYF9E"
      },
      "execution_count": null,
      "outputs": []
    },
    {
      "cell_type": "code",
      "source": [
        "X_train.shape, X_test.shape\n"
      ],
      "metadata": {
        "colab": {
          "base_uri": "https://localhost:8080/"
        },
        "id": "lgEW6mPwZFmb",
        "outputId": "da4d2f17-6918-4f91-a9f8-978af3d79bd4"
      },
      "execution_count": null,
      "outputs": [
        {
          "output_type": "execute_result",
          "data": {
            "text/plain": [
              "((164, 2), (41, 2))"
            ]
          },
          "metadata": {},
          "execution_count": 157
        }
      ]
    },
    {
      "source": [
        "#@title Model Build\n",
        "model = tf.keras.Sequential([\n",
        "    tf.keras.layers.Dense(64, input_shape=(2,),activation='leaky_relu'),\n",
        "    tf.keras.layers.Dense(20, activation='relu'),\n",
        "    tf.keras.layers.Dense(1, activation='sigmoid')\n",
        "])\n",
        "\n",
        "# Compile the model\n",
        "model.compile(optimizer=tf.keras.optimizers.Adam(learning_rate=0.001),\n",
        "              loss=tf.keras.losses.BinaryCrossentropy(),\n",
        "              metrics=['accuracy'])\n",
        "\n",
        "# Train the model\n",
        "history = model.fit(X_train, y_train, epochs=100)"
      ],
      "cell_type": "code",
      "metadata": {
        "colab": {
          "base_uri": "https://localhost:8080/"
        },
        "id": "hYKWi3ogc8TT",
        "outputId": "9edbafdc-e2aa-4288-d890-ef0d8e9cadef"
      },
      "execution_count": null,
      "outputs": [
        {
          "output_type": "stream",
          "name": "stdout",
          "text": [
            "Epoch 1/100\n",
            "6/6 [==============================] - 1s 3ms/step - loss: 0.6511 - accuracy: 0.5244\n",
            "Epoch 2/100\n",
            "6/6 [==============================] - 0s 2ms/step - loss: 0.6425 - accuracy: 0.5366\n",
            "Epoch 3/100\n",
            "6/6 [==============================] - 0s 4ms/step - loss: 0.6350 - accuracy: 0.5427\n",
            "Epoch 4/100\n",
            "6/6 [==============================] - 0s 2ms/step - loss: 0.6280 - accuracy: 0.5732\n",
            "Epoch 5/100\n",
            "6/6 [==============================] - 0s 2ms/step - loss: 0.6195 - accuracy: 0.5976\n",
            "Epoch 6/100\n",
            "6/6 [==============================] - 0s 3ms/step - loss: 0.6094 - accuracy: 0.6220\n",
            "Epoch 7/100\n",
            "6/6 [==============================] - 0s 3ms/step - loss: 0.6015 - accuracy: 0.6220\n",
            "Epoch 8/100\n",
            "6/6 [==============================] - 0s 2ms/step - loss: 0.5935 - accuracy: 0.6585\n",
            "Epoch 9/100\n",
            "6/6 [==============================] - 0s 2ms/step - loss: 0.5881 - accuracy: 0.7439\n",
            "Epoch 10/100\n",
            "6/6 [==============================] - 0s 2ms/step - loss: 0.5823 - accuracy: 0.7805\n",
            "Epoch 11/100\n",
            "6/6 [==============================] - 0s 2ms/step - loss: 0.5760 - accuracy: 0.7927\n",
            "Epoch 12/100\n",
            "6/6 [==============================] - 0s 2ms/step - loss: 0.5651 - accuracy: 0.7866\n",
            "Epoch 13/100\n",
            "6/6 [==============================] - 0s 3ms/step - loss: 0.5537 - accuracy: 0.7561\n",
            "Epoch 14/100\n",
            "6/6 [==============================] - 0s 3ms/step - loss: 0.5463 - accuracy: 0.7500\n",
            "Epoch 15/100\n",
            "6/6 [==============================] - 0s 2ms/step - loss: 0.5353 - accuracy: 0.7683\n",
            "Epoch 16/100\n",
            "6/6 [==============================] - 0s 2ms/step - loss: 0.5242 - accuracy: 0.8049\n",
            "Epoch 17/100\n",
            "6/6 [==============================] - 0s 3ms/step - loss: 0.5147 - accuracy: 0.8171\n",
            "Epoch 18/100\n",
            "6/6 [==============================] - 0s 2ms/step - loss: 0.5038 - accuracy: 0.8110\n",
            "Epoch 19/100\n",
            "6/6 [==============================] - 0s 3ms/step - loss: 0.4899 - accuracy: 0.8171\n",
            "Epoch 20/100\n",
            "6/6 [==============================] - 0s 2ms/step - loss: 0.4762 - accuracy: 0.8110\n",
            "Epoch 21/100\n",
            "6/6 [==============================] - 0s 3ms/step - loss: 0.4652 - accuracy: 0.8354\n",
            "Epoch 22/100\n",
            "6/6 [==============================] - 0s 3ms/step - loss: 0.4527 - accuracy: 0.8354\n",
            "Epoch 23/100\n",
            "6/6 [==============================] - 0s 3ms/step - loss: 0.4431 - accuracy: 0.8232\n",
            "Epoch 24/100\n",
            "6/6 [==============================] - 0s 2ms/step - loss: 0.4326 - accuracy: 0.8293\n",
            "Epoch 25/100\n",
            "6/6 [==============================] - 0s 3ms/step - loss: 0.4226 - accuracy: 0.8354\n",
            "Epoch 26/100\n",
            "6/6 [==============================] - 0s 2ms/step - loss: 0.4111 - accuracy: 0.8476\n",
            "Epoch 27/100\n",
            "6/6 [==============================] - 0s 3ms/step - loss: 0.4014 - accuracy: 0.8537\n",
            "Epoch 28/100\n",
            "6/6 [==============================] - 0s 2ms/step - loss: 0.3922 - accuracy: 0.8476\n",
            "Epoch 29/100\n",
            "6/6 [==============================] - 0s 3ms/step - loss: 0.3840 - accuracy: 0.8293\n",
            "Epoch 30/100\n",
            "6/6 [==============================] - 0s 2ms/step - loss: 0.3723 - accuracy: 0.8476\n",
            "Epoch 31/100\n",
            "6/6 [==============================] - 0s 3ms/step - loss: 0.3634 - accuracy: 0.8598\n",
            "Epoch 32/100\n",
            "6/6 [==============================] - 0s 2ms/step - loss: 0.3554 - accuracy: 0.8537\n",
            "Epoch 33/100\n",
            "6/6 [==============================] - 0s 3ms/step - loss: 0.3484 - accuracy: 0.8415\n",
            "Epoch 34/100\n",
            "6/6 [==============================] - 0s 3ms/step - loss: 0.3414 - accuracy: 0.8598\n",
            "Epoch 35/100\n",
            "6/6 [==============================] - 0s 3ms/step - loss: 0.3348 - accuracy: 0.8598\n",
            "Epoch 36/100\n",
            "6/6 [==============================] - 0s 3ms/step - loss: 0.3308 - accuracy: 0.8598\n",
            "Epoch 37/100\n",
            "6/6 [==============================] - 0s 4ms/step - loss: 0.3229 - accuracy: 0.8537\n",
            "Epoch 38/100\n",
            "6/6 [==============================] - 0s 3ms/step - loss: 0.3237 - accuracy: 0.8476\n",
            "Epoch 39/100\n",
            "6/6 [==============================] - 0s 5ms/step - loss: 0.3141 - accuracy: 0.8537\n",
            "Epoch 40/100\n",
            "6/6 [==============================] - 0s 5ms/step - loss: 0.3093 - accuracy: 0.8659\n",
            "Epoch 41/100\n",
            "6/6 [==============================] - 0s 3ms/step - loss: 0.3060 - accuracy: 0.8598\n",
            "Epoch 42/100\n",
            "6/6 [==============================] - 0s 4ms/step - loss: 0.3028 - accuracy: 0.8659\n",
            "Epoch 43/100\n",
            "6/6 [==============================] - 0s 3ms/step - loss: 0.3075 - accuracy: 0.8476\n",
            "Epoch 44/100\n",
            "6/6 [==============================] - 0s 4ms/step - loss: 0.3076 - accuracy: 0.8354\n",
            "Epoch 45/100\n",
            "6/6 [==============================] - 0s 3ms/step - loss: 0.2954 - accuracy: 0.8598\n",
            "Epoch 46/100\n",
            "6/6 [==============================] - 0s 4ms/step - loss: 0.2953 - accuracy: 0.8659\n",
            "Epoch 47/100\n",
            "6/6 [==============================] - 0s 3ms/step - loss: 0.2959 - accuracy: 0.8659\n",
            "Epoch 48/100\n",
            "6/6 [==============================] - 0s 4ms/step - loss: 0.2924 - accuracy: 0.8720\n",
            "Epoch 49/100\n",
            "6/6 [==============================] - 0s 3ms/step - loss: 0.2895 - accuracy: 0.8598\n",
            "Epoch 50/100\n",
            "6/6 [==============================] - 0s 3ms/step - loss: 0.2898 - accuracy: 0.8537\n",
            "Epoch 51/100\n",
            "6/6 [==============================] - 0s 3ms/step - loss: 0.2924 - accuracy: 0.8659\n",
            "Epoch 52/100\n",
            "6/6 [==============================] - 0s 4ms/step - loss: 0.2911 - accuracy: 0.8720\n",
            "Epoch 53/100\n",
            "6/6 [==============================] - 0s 4ms/step - loss: 0.2858 - accuracy: 0.8720\n",
            "Epoch 54/100\n",
            "6/6 [==============================] - 0s 4ms/step - loss: 0.2847 - accuracy: 0.8659\n",
            "Epoch 55/100\n",
            "6/6 [==============================] - 0s 3ms/step - loss: 0.2831 - accuracy: 0.8598\n",
            "Epoch 56/100\n",
            "6/6 [==============================] - 0s 3ms/step - loss: 0.2883 - accuracy: 0.8598\n",
            "Epoch 57/100\n",
            "6/6 [==============================] - 0s 4ms/step - loss: 0.2876 - accuracy: 0.8537\n",
            "Epoch 58/100\n",
            "6/6 [==============================] - 0s 3ms/step - loss: 0.2806 - accuracy: 0.8659\n",
            "Epoch 59/100\n",
            "6/6 [==============================] - 0s 3ms/step - loss: 0.2819 - accuracy: 0.8598\n",
            "Epoch 60/100\n",
            "6/6 [==============================] - 0s 4ms/step - loss: 0.3009 - accuracy: 0.8659\n",
            "Epoch 61/100\n",
            "6/6 [==============================] - 0s 3ms/step - loss: 0.2891 - accuracy: 0.8720\n",
            "Epoch 62/100\n",
            "6/6 [==============================] - 0s 3ms/step - loss: 0.2798 - accuracy: 0.8598\n",
            "Epoch 63/100\n",
            "6/6 [==============================] - 0s 3ms/step - loss: 0.2794 - accuracy: 0.8659\n",
            "Epoch 64/100\n",
            "6/6 [==============================] - 0s 4ms/step - loss: 0.2784 - accuracy: 0.8598\n",
            "Epoch 65/100\n",
            "6/6 [==============================] - 0s 3ms/step - loss: 0.2798 - accuracy: 0.8537\n",
            "Epoch 66/100\n",
            "6/6 [==============================] - 0s 3ms/step - loss: 0.2792 - accuracy: 0.8537\n",
            "Epoch 67/100\n",
            "6/6 [==============================] - 0s 3ms/step - loss: 0.2783 - accuracy: 0.8598\n",
            "Epoch 68/100\n",
            "6/6 [==============================] - 0s 3ms/step - loss: 0.2813 - accuracy: 0.8659\n",
            "Epoch 69/100\n",
            "6/6 [==============================] - 0s 4ms/step - loss: 0.2778 - accuracy: 0.8659\n",
            "Epoch 70/100\n",
            "6/6 [==============================] - 0s 3ms/step - loss: 0.2742 - accuracy: 0.8659\n",
            "Epoch 71/100\n",
            "6/6 [==============================] - 0s 4ms/step - loss: 0.2761 - accuracy: 0.8720\n",
            "Epoch 72/100\n",
            "6/6 [==============================] - 0s 3ms/step - loss: 0.2760 - accuracy: 0.8720\n",
            "Epoch 73/100\n",
            "6/6 [==============================] - 0s 4ms/step - loss: 0.2751 - accuracy: 0.8598\n",
            "Epoch 74/100\n",
            "6/6 [==============================] - 0s 4ms/step - loss: 0.2787 - accuracy: 0.8720\n",
            "Epoch 75/100\n",
            "6/6 [==============================] - 0s 4ms/step - loss: 0.2751 - accuracy: 0.8659\n",
            "Epoch 76/100\n",
            "6/6 [==============================] - 0s 5ms/step - loss: 0.2756 - accuracy: 0.8659\n",
            "Epoch 77/100\n",
            "6/6 [==============================] - 0s 4ms/step - loss: 0.2759 - accuracy: 0.8659\n",
            "Epoch 78/100\n",
            "6/6 [==============================] - 0s 4ms/step - loss: 0.2757 - accuracy: 0.8537\n",
            "Epoch 79/100\n",
            "6/6 [==============================] - 0s 3ms/step - loss: 0.2743 - accuracy: 0.8780\n",
            "Epoch 80/100\n",
            "6/6 [==============================] - 0s 4ms/step - loss: 0.2718 - accuracy: 0.8659\n",
            "Epoch 81/100\n",
            "6/6 [==============================] - 0s 4ms/step - loss: 0.2779 - accuracy: 0.8659\n",
            "Epoch 82/100\n",
            "6/6 [==============================] - 0s 4ms/step - loss: 0.2756 - accuracy: 0.8659\n",
            "Epoch 83/100\n",
            "6/6 [==============================] - 0s 4ms/step - loss: 0.2746 - accuracy: 0.8598\n",
            "Epoch 84/100\n",
            "6/6 [==============================] - 0s 4ms/step - loss: 0.2725 - accuracy: 0.8720\n",
            "Epoch 85/100\n",
            "6/6 [==============================] - 0s 4ms/step - loss: 0.2714 - accuracy: 0.8720\n",
            "Epoch 86/100\n",
            "6/6 [==============================] - 0s 4ms/step - loss: 0.2837 - accuracy: 0.8537\n",
            "Epoch 87/100\n",
            "6/6 [==============================] - 0s 3ms/step - loss: 0.2820 - accuracy: 0.8476\n",
            "Epoch 88/100\n",
            "6/6 [==============================] - 0s 4ms/step - loss: 0.2741 - accuracy: 0.8659\n",
            "Epoch 89/100\n",
            "6/6 [==============================] - 0s 3ms/step - loss: 0.2727 - accuracy: 0.8720\n",
            "Epoch 90/100\n",
            "6/6 [==============================] - 0s 3ms/step - loss: 0.2757 - accuracy: 0.8720\n",
            "Epoch 91/100\n",
            "6/6 [==============================] - 0s 3ms/step - loss: 0.2771 - accuracy: 0.8659\n",
            "Epoch 92/100\n",
            "6/6 [==============================] - 0s 3ms/step - loss: 0.2719 - accuracy: 0.8659\n",
            "Epoch 93/100\n",
            "6/6 [==============================] - 0s 3ms/step - loss: 0.2723 - accuracy: 0.8720\n",
            "Epoch 94/100\n",
            "6/6 [==============================] - 0s 4ms/step - loss: 0.2721 - accuracy: 0.8720\n",
            "Epoch 95/100\n",
            "6/6 [==============================] - 0s 4ms/step - loss: 0.2750 - accuracy: 0.8780\n",
            "Epoch 96/100\n",
            "6/6 [==============================] - 0s 4ms/step - loss: 0.2765 - accuracy: 0.8720\n",
            "Epoch 97/100\n",
            "6/6 [==============================] - 0s 3ms/step - loss: 0.2753 - accuracy: 0.8659\n",
            "Epoch 98/100\n",
            "6/6 [==============================] - 0s 3ms/step - loss: 0.2713 - accuracy: 0.8598\n",
            "Epoch 99/100\n",
            "6/6 [==============================] - 0s 3ms/step - loss: 0.2706 - accuracy: 0.8659\n",
            "Epoch 100/100\n",
            "6/6 [==============================] - 0s 3ms/step - loss: 0.2721 - accuracy: 0.8720\n"
          ]
        }
      ]
    },
    {
      "cell_type": "code",
      "source": [
        "model.summary()"
      ],
      "metadata": {
        "colab": {
          "base_uri": "https://localhost:8080/"
        },
        "id": "6Cr86A98dsFL",
        "outputId": "20f014aa-eb64-41ac-c618-cae3e47f007f"
      },
      "execution_count": null,
      "outputs": [
        {
          "output_type": "stream",
          "name": "stdout",
          "text": [
            "Model: \"sequential_16\"\n",
            "_________________________________________________________________\n",
            " Layer (type)                Output Shape              Param #   \n",
            "=================================================================\n",
            " dense_38 (Dense)            (None, 64)                192       \n",
            "                                                                 \n",
            " dense_39 (Dense)            (None, 20)                1300      \n",
            "                                                                 \n",
            " dense_40 (Dense)            (None, 1)                 21        \n",
            "                                                                 \n",
            "=================================================================\n",
            "Total params: 1513 (5.91 KB)\n",
            "Trainable params: 1513 (5.91 KB)\n",
            "Non-trainable params: 0 (0.00 Byte)\n",
            "_________________________________________________________________\n"
          ]
        }
      ]
    },
    {
      "cell_type": "code",
      "source": [
        "#@title Model evaluate\n",
        "\n",
        "model.evaluate(X_test, y_test)"
      ],
      "metadata": {
        "colab": {
          "base_uri": "https://localhost:8080/"
        },
        "id": "Ok-BJ9ffeSV3",
        "outputId": "89d9f1d6-4d34-4b76-e2d6-aea6383f2c4b"
      },
      "execution_count": null,
      "outputs": [
        {
          "output_type": "stream",
          "name": "stderr",
          "text": [
            "WARNING:tensorflow:5 out of the last 9 calls to <function Model.make_test_function.<locals>.test_function at 0x79d7c9d3dea0> triggered tf.function retracing. Tracing is expensive and the excessive number of tracings could be due to (1) creating @tf.function repeatedly in a loop, (2) passing tensors with different shapes, (3) passing Python objects instead of tensors. For (1), please define your @tf.function outside of the loop. For (2), @tf.function has reduce_retracing=True option that can avoid unnecessary retracing. For (3), please refer to https://www.tensorflow.org/guide/function#controlling_retracing and https://www.tensorflow.org/api_docs/python/tf/function for  more details.\n"
          ]
        },
        {
          "output_type": "stream",
          "name": "stdout",
          "text": [
            "2/2 [==============================] - 0s 8ms/step - loss: 0.2728 - accuracy: 0.9024\n"
          ]
        },
        {
          "output_type": "execute_result",
          "data": {
            "text/plain": [
              "[0.27280905842781067, 0.9024389982223511]"
            ]
          },
          "metadata": {},
          "execution_count": 160
        }
      ]
    },
    {
      "cell_type": "code",
      "source": [
        "y_pred = model.predict(X_test)"
      ],
      "metadata": {
        "colab": {
          "base_uri": "https://localhost:8080/"
        },
        "id": "yV7gydiVegzr",
        "outputId": "8ea3017f-e8c7-4cce-df8a-29e147d3c4a6"
      },
      "execution_count": null,
      "outputs": [
        {
          "output_type": "stream",
          "name": "stdout",
          "text": [
            "2/2 [==============================] - 0s 5ms/step\n"
          ]
        }
      ]
    },
    {
      "cell_type": "code",
      "source": [
        "y_pred[:5]"
      ],
      "metadata": {
        "colab": {
          "base_uri": "https://localhost:8080/"
        },
        "id": "quFADfnPem1W",
        "outputId": "49873881-65c8-410f-9717-ebe6797b0f4e"
      },
      "execution_count": null,
      "outputs": [
        {
          "output_type": "execute_result",
          "data": {
            "text/plain": [
              "array([[0.1430209 ],\n",
              "       [0.9823607 ],\n",
              "       [0.9914655 ],\n",
              "       [0.26773727],\n",
              "       [0.9762106 ]], dtype=float32)"
            ]
          },
          "metadata": {},
          "execution_count": 183
        }
      ]
    },
    {
      "cell_type": "code",
      "source": [
        "y_test[:5]"
      ],
      "metadata": {
        "colab": {
          "base_uri": "https://localhost:8080/"
        },
        "id": "a8QRDGlRetQk",
        "outputId": "b9962e12-c19a-4a3c-aaf6-b88cbb81d6a9"
      },
      "execution_count": null,
      "outputs": [
        {
          "output_type": "execute_result",
          "data": {
            "text/plain": [
              "15     0\n",
              "9      1\n",
              "100    1\n",
              "132    0\n",
              "68     1\n",
              "Name: Sex, dtype: int64"
            ]
          },
          "metadata": {},
          "execution_count": 185
        }
      ]
    },
    {
      "cell_type": "markdown",
      "source": [],
      "metadata": {
        "id": "gvVWARfhaTEd"
      }
    },
    {
      "cell_type": "code",
      "source": [
        "#Precision\n",
        "precision = tf.keras.metrics.Precision()\n",
        "precision.update_state(y_test, y_pred)\n",
        "precision.result().numpy()"
      ],
      "metadata": {
        "colab": {
          "base_uri": "https://localhost:8080/"
        },
        "id": "zE3BNdhXe5Fe",
        "outputId": "c9955bf3-da79-4dd6-d454-a3b4b760736f"
      },
      "execution_count": null,
      "outputs": [
        {
          "output_type": "execute_result",
          "data": {
            "text/plain": [
              "0.0"
            ]
          },
          "metadata": {},
          "execution_count": 165
        }
      ]
    },
    {
      "cell_type": "code",
      "source": [
        "#Recall\n",
        "recall = tf.keras.metrics.Recall()\n",
        "recall.update_state(y_test, y_pred)\n",
        "recall.result().numpy()"
      ],
      "metadata": {
        "colab": {
          "base_uri": "https://localhost:8080/"
        },
        "id": "iGNCnFdDfAbp",
        "outputId": "1cf124e6-fac6-4f05-8b31-5c4a55737fe3"
      },
      "execution_count": null,
      "outputs": [
        {
          "output_type": "execute_result",
          "data": {
            "text/plain": [
              "0.0"
            ]
          },
          "metadata": {},
          "execution_count": 166
        }
      ]
    },
    {
      "cell_type": "code",
      "source": [
        "history.history"
      ],
      "metadata": {
        "colab": {
          "base_uri": "https://localhost:8080/"
        },
        "id": "XjKEn4E4fNra",
        "outputId": "dde88aef-ff61-40fb-877c-d821dc98d3c9"
      },
      "execution_count": null,
      "outputs": [
        {
          "output_type": "execute_result",
          "data": {
            "text/plain": [
              "{'loss': [0.6511078476905823,\n",
              "  0.6425197124481201,\n",
              "  0.6349942684173584,\n",
              "  0.6280094385147095,\n",
              "  0.6194623708724976,\n",
              "  0.6093568801879883,\n",
              "  0.6014772057533264,\n",
              "  0.5934938788414001,\n",
              "  0.5880878567695618,\n",
              "  0.5823192000389099,\n",
              "  0.5760126709938049,\n",
              "  0.5651254653930664,\n",
              "  0.553656816482544,\n",
              "  0.5463127493858337,\n",
              "  0.5353065729141235,\n",
              "  0.5242259502410889,\n",
              "  0.5146753787994385,\n",
              "  0.5038134455680847,\n",
              "  0.4899481236934662,\n",
              "  0.4762480556964874,\n",
              "  0.4651756286621094,\n",
              "  0.4526756703853607,\n",
              "  0.4431309700012207,\n",
              "  0.4326309561729431,\n",
              "  0.4226112365722656,\n",
              "  0.4110682010650635,\n",
              "  0.40141454339027405,\n",
              "  0.3921859562397003,\n",
              "  0.38404059410095215,\n",
              "  0.37232860922813416,\n",
              "  0.36338379979133606,\n",
              "  0.35543468594551086,\n",
              "  0.348440945148468,\n",
              "  0.3413841128349304,\n",
              "  0.3348219394683838,\n",
              "  0.33077967166900635,\n",
              "  0.3229389190673828,\n",
              "  0.32369092106819153,\n",
              "  0.3141169548034668,\n",
              "  0.30930718779563904,\n",
              "  0.3060305416584015,\n",
              "  0.30280637741088867,\n",
              "  0.3075157701969147,\n",
              "  0.3076280355453491,\n",
              "  0.2954139709472656,\n",
              "  0.29529234766960144,\n",
              "  0.2958689332008362,\n",
              "  0.2924417555332184,\n",
              "  0.28953441977500916,\n",
              "  0.2898488938808441,\n",
              "  0.2923921048641205,\n",
              "  0.29109472036361694,\n",
              "  0.285781592130661,\n",
              "  0.2846820652484894,\n",
              "  0.2830512225627899,\n",
              "  0.288276344537735,\n",
              "  0.2875819206237793,\n",
              "  0.2805717885494232,\n",
              "  0.28186410665512085,\n",
              "  0.30092212557792664,\n",
              "  0.2890840768814087,\n",
              "  0.27978113293647766,\n",
              "  0.2794239819049835,\n",
              "  0.2783642113208771,\n",
              "  0.279776006937027,\n",
              "  0.27922117710113525,\n",
              "  0.2782992124557495,\n",
              "  0.28130972385406494,\n",
              "  0.2778278887271881,\n",
              "  0.27422717213630676,\n",
              "  0.2761404812335968,\n",
              "  0.275990754365921,\n",
              "  0.2751428186893463,\n",
              "  0.27869752049446106,\n",
              "  0.2750702500343323,\n",
              "  0.2755693197250366,\n",
              "  0.2759389281272888,\n",
              "  0.27569469809532166,\n",
              "  0.2743111252784729,\n",
              "  0.27178096771240234,\n",
              "  0.2778951823711395,\n",
              "  0.2755942642688751,\n",
              "  0.27457496523857117,\n",
              "  0.27254703640937805,\n",
              "  0.27140775322914124,\n",
              "  0.2836604416370392,\n",
              "  0.28200462460517883,\n",
              "  0.274058073759079,\n",
              "  0.2726883888244629,\n",
              "  0.27572906017303467,\n",
              "  0.27709296345710754,\n",
              "  0.2719251215457916,\n",
              "  0.2723406255245209,\n",
              "  0.2720666229724884,\n",
              "  0.27501848340034485,\n",
              "  0.27645963430404663,\n",
              "  0.2752948999404907,\n",
              "  0.2712565064430237,\n",
              "  0.27059534192085266,\n",
              "  0.27214786410331726],\n",
              " 'accuracy': [0.5243902206420898,\n",
              "  0.5365853905677795,\n",
              "  0.542682945728302,\n",
              "  0.5731707215309143,\n",
              "  0.5975610017776489,\n",
              "  0.6219512224197388,\n",
              "  0.6219512224197388,\n",
              "  0.6585366129875183,\n",
              "  0.7439024448394775,\n",
              "  0.7804877758026123,\n",
              "  0.792682945728302,\n",
              "  0.7865853905677795,\n",
              "  0.7560975551605225,\n",
              "  0.75,\n",
              "  0.7682926654815674,\n",
              "  0.8048780560493469,\n",
              "  0.8170731663703918,\n",
              "  0.8109756112098694,\n",
              "  0.8170731663703918,\n",
              "  0.8109756112098694,\n",
              "  0.8353658318519592,\n",
              "  0.8353658318519592,\n",
              "  0.8231707215309143,\n",
              "  0.8292682766914368,\n",
              "  0.8353658318519592,\n",
              "  0.8475610017776489,\n",
              "  0.8536585569381714,\n",
              "  0.8475610017776489,\n",
              "  0.8292682766914368,\n",
              "  0.8475610017776489,\n",
              "  0.8597561120986938,\n",
              "  0.8536585569381714,\n",
              "  0.8414633870124817,\n",
              "  0.8597561120986938,\n",
              "  0.8597561120986938,\n",
              "  0.8597561120986938,\n",
              "  0.8536585569381714,\n",
              "  0.8475610017776489,\n",
              "  0.8536585569381714,\n",
              "  0.8658536672592163,\n",
              "  0.8597561120986938,\n",
              "  0.8658536672592163,\n",
              "  0.8475610017776489,\n",
              "  0.8353658318519592,\n",
              "  0.8597561120986938,\n",
              "  0.8658536672592163,\n",
              "  0.8658536672592163,\n",
              "  0.8719512224197388,\n",
              "  0.8597561120986938,\n",
              "  0.8536585569381714,\n",
              "  0.8658536672592163,\n",
              "  0.8719512224197388,\n",
              "  0.8719512224197388,\n",
              "  0.8658536672592163,\n",
              "  0.8597561120986938,\n",
              "  0.8597561120986938,\n",
              "  0.8536585569381714,\n",
              "  0.8658536672592163,\n",
              "  0.8597561120986938,\n",
              "  0.8658536672592163,\n",
              "  0.8719512224197388,\n",
              "  0.8597561120986938,\n",
              "  0.8658536672592163,\n",
              "  0.8597561120986938,\n",
              "  0.8536585569381714,\n",
              "  0.8536585569381714,\n",
              "  0.8597561120986938,\n",
              "  0.8658536672592163,\n",
              "  0.8658536672592163,\n",
              "  0.8658536672592163,\n",
              "  0.8719512224197388,\n",
              "  0.8719512224197388,\n",
              "  0.8597561120986938,\n",
              "  0.8719512224197388,\n",
              "  0.8658536672592163,\n",
              "  0.8658536672592163,\n",
              "  0.8658536672592163,\n",
              "  0.8536585569381714,\n",
              "  0.8780487775802612,\n",
              "  0.8658536672592163,\n",
              "  0.8658536672592163,\n",
              "  0.8658536672592163,\n",
              "  0.8597561120986938,\n",
              "  0.8719512224197388,\n",
              "  0.8719512224197388,\n",
              "  0.8536585569381714,\n",
              "  0.8475610017776489,\n",
              "  0.8658536672592163,\n",
              "  0.8719512224197388,\n",
              "  0.8719512224197388,\n",
              "  0.8658536672592163,\n",
              "  0.8658536672592163,\n",
              "  0.8719512224197388,\n",
              "  0.8719512224197388,\n",
              "  0.8780487775802612,\n",
              "  0.8719512224197388,\n",
              "  0.8658536672592163,\n",
              "  0.8597561120986938,\n",
              "  0.8658536672592163,\n",
              "  0.8719512224197388]}"
            ]
          },
          "metadata": {},
          "execution_count": 167
        }
      ]
    },
    {
      "cell_type": "code",
      "source": [
        "pd.DataFrame(history.history).plot(figsize=(8,5))\n",
        "plt.show()"
      ],
      "metadata": {
        "colab": {
          "base_uri": "https://localhost:8080/",
          "height": 446
        },
        "id": "Iy7sRmGBfPtS",
        "outputId": "eceb313e-ed2d-4a39-80c3-8e435fbc1a19"
      },
      "execution_count": null,
      "outputs": [
        {
          "output_type": "display_data",
          "data": {
            "text/plain": [
              "<Figure size 800x500 with 1 Axes>"
            ],
            "image/png": "[encoded data removed]"
          },
          "metadata": {}
        }
      ]
    },
    {
      "cell_type": "code",
      "source": [],
      "metadata": {
        "id": "UIW8y1RshONi"
      },
      "execution_count": null,
      "outputs": []
    }
  ]
}