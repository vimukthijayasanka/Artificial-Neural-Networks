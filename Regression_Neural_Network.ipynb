{
  "nbformat": 4,
  "nbformat_minor": 0,
  "metadata": {
    "colab": {
      "provenance": [],
      "gpuType": "T4",
      "authorship_tag": "ABX9TyN8SdACohACoOG1ZS0iK/Gp",
      "include_colab_link": true
    },
    "kernelspec": {
      "name": "python3",
      "display_name": "Python 3"
    },
    "language_info": {
      "name": "python"
    },
    "accelerator": "GPU"
  },
  "cells": [
    {
      "cell_type": "markdown",
      "metadata": {
        "id": "view-in-github",
        "colab_type": "text"
      },
      "source": [
        "<a href=\"https://colab.research.google.com/github/vimukthijayasanka/Artificial-Neural-Networks/blob/main/Regression_Neural_Network.ipynb\" target=\"_parent\"><img src=\"https://colab.research.google.com/assets/colab-badge.svg\" alt=\"Open In Colab\"/></a>"
      ]
    },
    {
      "cell_type": "code",
      "source": [
        "!pip install opendatasets"
      ],
      "metadata": {
        "colab": {
          "base_uri": "https://localhost:8080/"
        },
        "id": "7-sydr86gr-m",
        "outputId": "ff9450c7-f321-4949-e2ce-a1c6bff01cad"
      },
      "execution_count": null,
      "outputs": [
        {
          "output_type": "stream",
          "name": "stdout",
          "text": [
            "Collecting opendatasets\n",
            "  Downloading opendatasets-0.1.22-py3-none-any.whl (15 kB)\n",
            "Requirement already satisfied: tqdm in /usr/local/lib/python3.10/dist-packages (from opendatasets) (4.66.4)\n",
            "Requirement already satisfied: kaggle in /usr/local/lib/python3.10/dist-packages (from opendatasets) (1.6.14)\n",
            "Requirement already satisfied: click in /usr/local/lib/python3.10/dist-packages (from opendatasets) (8.1.7)\n",
            "Requirement already satisfied: six>=1.10 in /usr/local/lib/python3.10/dist-packages (from kaggle->opendatasets) (1.16.0)\n",
            "Requirement already satisfied: certifi>=2023.7.22 in /usr/local/lib/python3.10/dist-packages (from kaggle->opendatasets) (2024.6.2)\n",
            "Requirement already satisfied: python-dateutil in /usr/local/lib/python3.10/dist-packages (from kaggle->opendatasets) (2.8.2)\n",
            "Requirement already satisfied: requests in /usr/local/lib/python3.10/dist-packages (from kaggle->opendatasets) (2.31.0)\n",
            "Requirement already satisfied: python-slugify in /usr/local/lib/python3.10/dist-packages (from kaggle->opendatasets) (8.0.4)\n",
            "Requirement already satisfied: urllib3 in /usr/local/lib/python3.10/dist-packages (from kaggle->opendatasets) (2.0.7)\n",
            "Requirement already satisfied: bleach in /usr/local/lib/python3.10/dist-packages (from kaggle->opendatasets) (6.1.0)\n",
            "Requirement already satisfied: webencodings in /usr/local/lib/python3.10/dist-packages (from bleach->kaggle->opendatasets) (0.5.1)\n",
            "Requirement already satisfied: text-unidecode>=1.3 in /usr/local/lib/python3.10/dist-packages (from python-slugify->kaggle->opendatasets) (1.3)\n",
            "Requirement already satisfied: charset-normalizer<4,>=2 in /usr/local/lib/python3.10/dist-packages (from requests->kaggle->opendatasets) (3.3.2)\n",
            "Requirement already satisfied: idna<4,>=2.5 in /usr/local/lib/python3.10/dist-packages (from requests->kaggle->opendatasets) (3.7)\n",
            "Installing collected packages: opendatasets\n",
            "Successfully installed opendatasets-0.1.22\n"
          ]
        }
      ]
    },
    {
      "cell_type": "code",
      "source": [
        "import pandas as pd\n",
        "import matplotlib.pyplot as plt\n",
        "import tensorflow as tf\n",
        "import opendatasets as od"
      ],
      "metadata": {
        "id": "Ala8Lob7gJ67"
      },
      "execution_count": null,
      "outputs": []
    },
    {
      "cell_type": "code",
      "source": [
        "od.download(\"https://www.kaggle.com/datasets/andonians/random-linear-regression\")"
      ],
      "metadata": {
        "colab": {
          "base_uri": "https://localhost:8080/"
        },
        "id": "Qhi7z_eNgaHG",
        "outputId": "31345dfd-3c4f-4b06-ecc3-9cd0afd26138"
      },
      "execution_count": null,
      "outputs": [
        {
          "output_type": "stream",
          "name": "stdout",
          "text": [
            "Please provide your Kaggle credentials to download this dataset. Learn more: http://bit.ly/kaggle-creds\n",
            "Your Kaggle username: vimjayasanka\n",
            "Your Kaggle Key: ··········\n",
            "Dataset URL: https://www.kaggle.com/datasets/andonians/random-linear-regression\n",
            "Downloading random-linear-regression.zip to ./random-linear-regression\n"
          ]
        },
        {
          "output_type": "stream",
          "name": "stderr",
          "text": [
            "100%|██████████| 7.63k/7.63k [00:00<00:00, 13.4MB/s]"
          ]
        },
        {
          "output_type": "stream",
          "name": "stdout",
          "text": [
            "\n"
          ]
        },
        {
          "output_type": "stream",
          "name": "stderr",
          "text": [
            "\n"
          ]
        }
      ]
    },
    {
      "cell_type": "code",
      "source": [
        "data = pd.read_csv(\"random-linear-regression/test.csv\")"
      ],
      "metadata": {
        "id": "U49UBpmEg2n2"
      },
      "execution_count": null,
      "outputs": []
    },
    {
      "cell_type": "code",
      "source": [
        "data.head()"
      ],
      "metadata": {
        "colab": {
          "base_uri": "https://localhost:8080/",
          "height": 206
        },
        "id": "AgG1xsjRhdoF",
        "outputId": "cf79c315-0bfc-4b04-c422-d86e1a9a13e1"
      },
      "execution_count": null,
      "outputs": [
        {
          "output_type": "execute_result",
          "data": {
            "text/plain": [
              "    x          y\n",
              "0  77  79.775152\n",
              "1  21  23.177279\n",
              "2  22  25.609262\n",
              "3  20  17.857388\n",
              "4  36  41.849864"
            ],
            "text/html": [
              "\n",
              "  <div id=\"df-4eb10be6-626e-4181-a461-90f97a1ede9e\" class=\"colab-df-container\">\n",
              "    <div>\n",
              "<style scoped>\n",
              "    .dataframe tbody tr th:only-of-type {\n",
              "        vertical-align: middle;\n",
              "    }\n",
              "\n",
              "    .dataframe tbody tr th {\n",
              "        vertical-align: top;\n",
              "    }\n",
              "\n",
              "    .dataframe thead th {\n",
              "        text-align: right;\n",
              "    }\n",
              "</style>\n",
              "<table border=\"1\" class=\"dataframe\">\n",
              "  <thead>\n",
              "    <tr style=\"text-align: right;\">\n",
              "      <th></th>\n",
              "      <th>x</th>\n",
              "      <th>y</th>\n",
              "    </tr>\n",
              "  </thead>\n",
              "  <tbody>\n",
              "    <tr>\n",
              "      <th>0</th>\n",
              "      <td>77</td>\n",
              "      <td>79.775152</td>\n",
              "    </tr>\n",
              "    <tr>\n",
              "      <th>1</th>\n",
              "      <td>21</td>\n",
              "      <td>23.177279</td>\n",
              "    </tr>\n",
              "    <tr>\n",
              "      <th>2</th>\n",
              "      <td>22</td>\n",
              "      <td>25.609262</td>\n",
              "    </tr>\n",
              "    <tr>\n",
              "      <th>3</th>\n",
              "      <td>20</td>\n",
              "      <td>17.857388</td>\n",
              "    </tr>\n",
              "    <tr>\n",
              "      <th>4</th>\n",
              "      <td>36</td>\n",
              "      <td>41.849864</td>\n",
              "    </tr>\n",
              "  </tbody>\n",
              "</table>\n",
              "</div>\n",
              "    <div class=\"colab-df-buttons\">\n",
              "\n",
              "  <div class=\"colab-df-container\">\n",
              "    <button class=\"colab-df-convert\" onclick=\"convertToInteractive('df-4eb10be6-626e-4181-a461-90f97a1ede9e')\"\n",
              "            title=\"Convert this dataframe to an interactive table.\"\n",
              "            style=\"display:none;\">\n",
              "\n",
              "  <svg xmlns=\"http://www.w3.org/2000/svg\" height=\"24px\" viewBox=\"0 -960 960 960\">\n",
              "    <path d=\"M120-120v-720h720v720H120Zm60-500h600v-160H180v160Zm220 220h160v-160H400v160Zm0 220h160v-160H400v160ZM180-400h160v-160H180v160Zm440 0h160v-160H620v160ZM180-180h160v-160H180v160Zm440 0h160v-160H620v160Z\"/>\n",
              "  </svg>\n",
              "    </button>\n",
              "\n",
              "  <style>\n",
              "    .colab-df-container {\n",
              "      display:flex;\n",
              "      gap: 12px;\n",
              "    }\n",
              "\n",
              "    .colab-df-convert {\n",
              "      background-color: #E8F0FE;\n",
              "      border: none;\n",
              "      border-radius: 50%;\n",
              "      cursor: pointer;\n",
              "      display: none;\n",
              "      fill: #1967D2;\n",
              "      height: 32px;\n",
              "      padding: 0 0 0 0;\n",
              "      width: 32px;\n",
              "    }\n",
              "\n",
              "    .colab-df-convert:hover {\n",
              "      background-color: #E2EBFA;\n",
              "      box-shadow: 0px 1px 2px rgba(60, 64, 67, 0.3), 0px 1px 3px 1px rgba(60, 64, 67, 0.15);\n",
              "      fill: #174EA6;\n",
              "    }\n",
              "\n",
              "    .colab-df-buttons div {\n",
              "      margin-bottom: 4px;\n",
              "    }\n",
              "\n",
              "    [theme=dark] .colab-df-convert {\n",
              "      background-color: #3B4455;\n",
              "      fill: #D2E3FC;\n",
              "    }\n",
              "\n",
              "    [theme=dark] .colab-df-convert:hover {\n",
              "      background-color: #434B5C;\n",
              "      box-shadow: 0px 1px 3px 1px rgba(0, 0, 0, 0.15);\n",
              "      filter: drop-shadow(0px 1px 2px rgba(0, 0, 0, 0.3));\n",
              "      fill: #FFFFFF;\n",
              "    }\n",
              "  </style>\n",
              "\n",
              "    <script>\n",
              "      const buttonEl =\n",
              "        document.querySelector('#df-4eb10be6-626e-4181-a461-90f97a1ede9e button.colab-df-convert');\n",
              "      buttonEl.style.display =\n",
              "        google.colab.kernel.accessAllowed ? 'block' : 'none';\n",
              "\n",
              "      async function convertToInteractive(key) {\n",
              "        const element = document.querySelector('#df-4eb10be6-626e-4181-a461-90f97a1ede9e');\n",
              "        const dataTable =\n",
              "          await google.colab.kernel.invokeFunction('convertToInteractive',\n",
              "                                                    [key], {});\n",
              "        if (!dataTable) return;\n",
              "\n",
              "        const docLinkHtml = 'Like what you see? Visit the ' +\n",
              "          '<a target=\"_blank\" href=https://colab.research.google.com/notebooks/data_table.ipynb>data table notebook</a>'\n",
              "          + ' to learn more about interactive tables.';\n",
              "        element.innerHTML = '';\n",
              "        dataTable['output_type'] = 'display_data';\n",
              "        await google.colab.output.renderOutput(dataTable, element);\n",
              "        const docLink = document.createElement('div');\n",
              "        docLink.innerHTML = docLinkHtml;\n",
              "        element.appendChild(docLink);\n",
              "      }\n",
              "    </script>\n",
              "  </div>\n",
              "\n",
              "\n",
              "<div id=\"df-adee2546-448a-4c68-a98b-bf2c4c6e905c\">\n",
              "  <button class=\"colab-df-quickchart\" onclick=\"quickchart('df-adee2546-448a-4c68-a98b-bf2c4c6e905c')\"\n",
              "            title=\"Suggest charts\"\n",
              "            style=\"display:none;\">\n",
              "\n",
              "<svg xmlns=\"http://www.w3.org/2000/svg\" height=\"24px\"viewBox=\"0 0 24 24\"\n",
              "     width=\"24px\">\n",
              "    <g>\n",
              "        <path d=\"M19 3H5c-1.1 0-2 .9-2 2v14c0 1.1.9 2 2 2h14c1.1 0 2-.9 2-2V5c0-1.1-.9-2-2-2zM9 17H7v-7h2v7zm4 0h-2V7h2v10zm4 0h-2v-4h2v4z\"/>\n",
              "    </g>\n",
              "</svg>\n",
              "  </button>\n",
              "\n",
              "<style>\n",
              "  .colab-df-quickchart {\n",
              "      --bg-color: #E8F0FE;\n",
              "      --fill-color: #1967D2;\n",
              "      --hover-bg-color: #E2EBFA;\n",
              "      --hover-fill-color: #174EA6;\n",
              "      --disabled-fill-color: #AAA;\n",
              "      --disabled-bg-color: #DDD;\n",
              "  }\n",
              "\n",
              "  [theme=dark] .colab-df-quickchart {\n",
              "      --bg-color: #3B4455;\n",
              "      --fill-color: #D2E3FC;\n",
              "      --hover-bg-color: #434B5C;\n",
              "      --hover-fill-color: #FFFFFF;\n",
              "      --disabled-bg-color: #3B4455;\n",
              "      --disabled-fill-color: #666;\n",
              "  }\n",
              "\n",
              "  .colab-df-quickchart {\n",
              "    background-color: var(--bg-color);\n",
              "    border: none;\n",
              "    border-radius: 50%;\n",
              "    cursor: pointer;\n",
              "    display: none;\n",
              "    fill: var(--fill-color);\n",
              "    height: 32px;\n",
              "    padding: 0;\n",
              "    width: 32px;\n",
              "  }\n",
              "\n",
              "  .colab-df-quickchart:hover {\n",
              "    background-color: var(--hover-bg-color);\n",
              "    box-shadow: 0 1px 2px rgba(60, 64, 67, 0.3), 0 1px 3px 1px rgba(60, 64, 67, 0.15);\n",
              "    fill: var(--button-hover-fill-color);\n",
              "  }\n",
              "\n",
              "  .colab-df-quickchart-complete:disabled,\n",
              "  .colab-df-quickchart-complete:disabled:hover {\n",
              "    background-color: var(--disabled-bg-color);\n",
              "    fill: var(--disabled-fill-color);\n",
              "    box-shadow: none;\n",
              "  }\n",
              "\n",
              "  .colab-df-spinner {\n",
              "    border: 2px solid var(--fill-color);\n",
              "    border-color: transparent;\n",
              "    border-bottom-color: var(--fill-color);\n",
              "    animation:\n",
              "      spin 1s steps(1) infinite;\n",
              "  }\n",
              "\n",
              "  @keyframes spin {\n",
              "    0% {\n",
              "      border-color: transparent;\n",
              "      border-bottom-color: var(--fill-color);\n",
              "      border-left-color: var(--fill-color);\n",
              "    }\n",
              "    20% {\n",
              "      border-color: transparent;\n",
              "      border-left-color: var(--fill-color);\n",
              "      border-top-color: var(--fill-color);\n",
              "    }\n",
              "    30% {\n",
              "      border-color: transparent;\n",
              "      border-left-color: var(--fill-color);\n",
              "      border-top-color: var(--fill-color);\n",
              "      border-right-color: var(--fill-color);\n",
              "    }\n",
              "    40% {\n",
              "      border-color: transparent;\n",
              "      border-right-color: var(--fill-color);\n",
              "      border-top-color: var(--fill-color);\n",
              "    }\n",
              "    60% {\n",
              "      border-color: transparent;\n",
              "      border-right-color: var(--fill-color);\n",
              "    }\n",
              "    80% {\n",
              "      border-color: transparent;\n",
              "      border-right-color: var(--fill-color);\n",
              "      border-bottom-color: var(--fill-color);\n",
              "    }\n",
              "    90% {\n",
              "      border-color: transparent;\n",
              "      border-bottom-color: var(--fill-color);\n",
              "    }\n",
              "  }\n",
              "</style>\n",
              "\n",
              "  <script>\n",
              "    async function quickchart(key) {\n",
              "      const quickchartButtonEl =\n",
              "        document.querySelector('#' + key + ' button');\n",
              "      quickchartButtonEl.disabled = true;  // To prevent multiple clicks.\n",
              "      quickchartButtonEl.classList.add('colab-df-spinner');\n",
              "      try {\n",
              "        const charts = await google.colab.kernel.invokeFunction(\n",
              "            'suggestCharts', [key], {});\n",
              "      } catch (error) {\n",
              "        console.error('Error during call to suggestCharts:', error);\n",
              "      }\n",
              "      quickchartButtonEl.classList.remove('colab-df-spinner');\n",
              "      quickchartButtonEl.classList.add('colab-df-quickchart-complete');\n",
              "    }\n",
              "    (() => {\n",
              "      let quickchartButtonEl =\n",
              "        document.querySelector('#df-adee2546-448a-4c68-a98b-bf2c4c6e905c button');\n",
              "      quickchartButtonEl.style.display =\n",
              "        google.colab.kernel.accessAllowed ? 'block' : 'none';\n",
              "    })();\n",
              "  </script>\n",
              "</div>\n",
              "\n",
              "    </div>\n",
              "  </div>\n"
            ],
            "application/vnd.google.colaboratory.intrinsic+json": {
              "type": "dataframe",
              "variable_name": "data",
              "summary": "{\n  \"name\": \"data\",\n  \"rows\": 300,\n  \"fields\": [\n    {\n      \"column\": \"x\",\n      \"properties\": {\n        \"dtype\": \"number\",\n        \"std\": 28,\n        \"min\": 0,\n        \"max\": 100,\n        \"num_unique_values\": 97,\n        \"samples\": [\n          38,\n          88,\n          6\n        ],\n        \"semantic_type\": \"\",\n        \"description\": \"\"\n      }\n    },\n    {\n      \"column\": \"y\",\n      \"properties\": {\n        \"dtype\": \"number\",\n        \"std\": 29.071480855972098,\n        \"min\": -3.467883789,\n        \"max\": 105.5918375,\n        \"num_unique_values\": 300,\n        \"samples\": [\n          92.88772282,\n          79.50341495,\n          97.00148372\n        ],\n        \"semantic_type\": \"\",\n        \"description\": \"\"\n      }\n    }\n  ]\n}"
            }
          },
          "metadata": {},
          "execution_count": 5
        }
      ]
    },
    {
      "cell_type": "code",
      "source": [
        "X = data[\"x\"]\n",
        "y = data[\"y\"]"
      ],
      "metadata": {
        "id": "A6iQaFglheyl"
      },
      "execution_count": null,
      "outputs": []
    },
    {
      "cell_type": "code",
      "source": [
        "plt.scatter(X, y)\n",
        "plt.show()"
      ],
      "metadata": {
        "colab": {
          "base_uri": "https://localhost:8080/",
          "height": 430
        },
        "id": "3ImHFTmsh4uZ",
        "outputId": "92f727fc-9d27-45ab-f7b0-386d87c7e408"
      },
      "execution_count": null,
      "outputs": [
        {
          "output_type": "display_data",
          "data": {
            "text/plain": [
              "<Figure size 640x480 with 1 Axes>"
            ],
            "image/png": "[encoded data removed]"
          },
          "metadata": {}
        }
      ]
    },
    {
      "cell_type": "code",
      "source": [
        "from sklearn.model_selection import train_test_split\n",
        "X_train,X_test,y_train,y_test = train_test_split(X,y,test_size=0.2,random_state=42)\n"
      ],
      "metadata": {
        "id": "HnX3zFoQiOEV"
      },
      "execution_count": null,
      "outputs": []
    },
    {
      "cell_type": "code",
      "source": [
        "plt.scatter(X_train,y_train,label=\"Training data\")\n",
        "plt.scatter(X_test,y_test,label=\"Testing data\")\n",
        "plt.legend()\n",
        "plt.show()"
      ],
      "metadata": {
        "colab": {
          "base_uri": "https://localhost:8080/",
          "height": 430
        },
        "id": "Mt-zMrPWii3s",
        "outputId": "409a2a04-98e7-4ff8-fd6b-94f4679e8b73"
      },
      "execution_count": null,
      "outputs": [
        {
          "output_type": "display_data",
          "data": {
            "text/plain": [
              "<Figure size 640x480 with 1 Axes>"
            ],
            "image/png": "[encoded data removed]"
          },
          "metadata": {}
        }
      ]
    },
    {
      "cell_type": "markdown",
      "source": [
        "# Model Building"
      ],
      "metadata": {
        "id": "r63ipwHnjMLK"
      }
    },
    {
      "cell_type": "code",
      "source": [
        "#create a model\n",
        "model = tf.keras.Sequential([\n",
        "          tf.keras.layers.Dense(64,input_shape=(1,),activation='leaky_relu'), #Hidden layer\n",
        "          tf.keras.layers.Dense(10),\n",
        "          tf.keras.layers.Dense(1) #Output layer\n",
        "          ])\n",
        "#Compile model\n",
        "model.compile(loss = tf.keras.losses.mean_absolute_error,\n",
        "              optimizer=tf.keras.optimizers.Adam(lr=0.05),\n",
        "              metrics=['mae'])\n",
        "\n",
        "#Train model\n",
        "history = model.fit(tf.expand_dims(X_train,axis=1), y_train,epochs=10)"
      ],
      "metadata": {
        "colab": {
          "base_uri": "https://localhost:8080/"
        },
        "id": "exFNijgUjKLA",
        "outputId": "f4126b9d-64fe-4a2d-c96b-75edc76c74b7"
      },
      "execution_count": null,
      "outputs": [
        {
          "output_type": "stream",
          "name": "stderr",
          "text": [
            "WARNING:absl:`lr` is deprecated in Keras optimizer, please use `learning_rate` or use the legacy optimizer, e.g.,tf.keras.optimizers.legacy.Adam.\n"
          ]
        },
        {
          "output_type": "stream",
          "name": "stdout",
          "text": [
            "Epoch 1/10\n",
            "8/8 [==============================] - 1s 6ms/step - loss: 40.3430 - mae: 40.3430\n",
            "Epoch 2/10\n",
            "8/8 [==============================] - 0s 6ms/step - loss: 25.4382 - mae: 25.4382\n",
            "Epoch 3/10\n",
            "8/8 [==============================] - 0s 7ms/step - loss: 9.8334 - mae: 9.8334\n",
            "Epoch 4/10\n",
            "8/8 [==============================] - 0s 8ms/step - loss: 4.6876 - mae: 4.6876\n",
            "Epoch 5/10\n",
            "8/8 [==============================] - 0s 7ms/step - loss: 3.8330 - mae: 3.8330\n",
            "Epoch 6/10\n",
            "8/8 [==============================] - 0s 9ms/step - loss: 3.2244 - mae: 3.2244\n",
            "Epoch 7/10\n",
            "8/8 [==============================] - 0s 6ms/step - loss: 2.6760 - mae: 2.6760\n",
            "Epoch 8/10\n",
            "8/8 [==============================] - 0s 5ms/step - loss: 2.4776 - mae: 2.4776\n",
            "Epoch 9/10\n",
            "8/8 [==============================] - 0s 6ms/step - loss: 2.4645 - mae: 2.4645\n",
            "Epoch 10/10\n",
            "8/8 [==============================] - 0s 6ms/step - loss: 2.4097 - mae: 2.4097\n"
          ]
        }
      ]
    },
    {
      "cell_type": "code",
      "source": [
        "model.summary()"
      ],
      "metadata": {
        "colab": {
          "base_uri": "https://localhost:8080/"
        },
        "id": "dpBGhuCdlQ4a",
        "outputId": "51c139ee-7ded-434b-bae1-3081651c23c8"
      },
      "execution_count": null,
      "outputs": [
        {
          "output_type": "stream",
          "name": "stdout",
          "text": [
            "Model: \"sequential_5\"\n",
            "_________________________________________________________________\n",
            " Layer (type)                Output Shape              Param #   \n",
            "=================================================================\n",
            " dense_13 (Dense)            (None, 64)                128       \n",
            "                                                                 \n",
            " dense_14 (Dense)            (None, 10)                650       \n",
            "                                                                 \n",
            " dense_15 (Dense)            (None, 1)                 11        \n",
            "                                                                 \n",
            "=================================================================\n",
            "Total params: 789 (3.08 KB)\n",
            "Trainable params: 789 (3.08 KB)\n",
            "Non-trainable params: 0 (0.00 Byte)\n",
            "_________________________________________________________________\n"
          ]
        }
      ]
    },
    {
      "cell_type": "code",
      "source": [
        "y_predictions = model.predict(X_test)\n",
        "y_predictions[:5]"
      ],
      "metadata": {
        "colab": {
          "base_uri": "https://localhost:8080/"
        },
        "id": "FgaHyCeRlsrl",
        "outputId": "71a61377-0bbf-4d57-ed38-19c8690407e5"
      },
      "execution_count": null,
      "outputs": [
        {
          "output_type": "stream",
          "name": "stdout",
          "text": [
            "2/2 [==============================] - 0s 5ms/step\n"
          ]
        },
        {
          "output_type": "execute_result",
          "data": {
            "text/plain": [
              "array([[91.220726 ],\n",
              "       [77.118095 ],\n",
              "       [95.25005  ],\n",
              "       [ 5.5969644],\n",
              "       [92.228065 ]], dtype=float32)"
            ]
          },
          "metadata": {},
          "execution_count": 35
        }
      ]
    },
    {
      "cell_type": "code",
      "source": [
        "y_test[:5]"
      ],
      "metadata": {
        "colab": {
          "base_uri": "https://localhost:8080/"
        },
        "id": "QbRQsFSOpAA8",
        "outputId": "f38c14f5-a1e1-4d5b-b7de-4a3f3f53fabb"
      },
      "execution_count": null,
      "outputs": [
        {
          "output_type": "execute_result",
          "data": {
            "text/plain": [
              "203    92.887723\n",
              "266    79.503415\n",
              "152    97.001484\n",
              "9       8.746748\n",
              "233    89.739520\n",
              "Name: y, dtype: float64"
            ]
          },
          "metadata": {},
          "execution_count": 36
        }
      ]
    },
    {
      "cell_type": "code",
      "source": [
        "plt.scatter(X_train,y_train,label=\"Training data\")\n",
        "plt.scatter(X_test,y_test,label=\"Testing data\")\n",
        "plt.scatter(X_test,y_predictions,label=\"Predictions\")\n",
        "plt.legend()\n",
        "plt.show()"
      ],
      "metadata": {
        "colab": {
          "base_uri": "https://localhost:8080/",
          "height": 430
        },
        "id": "2UfROcQXpObL",
        "outputId": "a8492f34-f0af-48da-f66d-7511c329091c"
      },
      "execution_count": null,
      "outputs": [
        {
          "output_type": "display_data",
          "data": {
            "text/plain": [
              "<Figure size 640x480 with 1 Axes>"
            ],
            "image/png": "[encoded data removed]"
          },
          "metadata": {}
        }
      ]
    },
    {
      "cell_type": "code",
      "source": [
        "model.evaluate(X_test,y_test)"
      ],
      "metadata": {
        "colab": {
          "base_uri": "https://localhost:8080/"
        },
        "id": "8odq5q6EpkRY",
        "outputId": "2629bac6-6e2d-4d22-bb17-82eb28331172"
      },
      "execution_count": null,
      "outputs": [
        {
          "output_type": "stream",
          "name": "stdout",
          "text": [
            "2/2 [==============================] - 0s 7ms/step - loss: 2.6380 - mae: 2.6380\n"
          ]
        },
        {
          "output_type": "execute_result",
          "data": {
            "text/plain": [
              "[2.6379945278167725, 2.6379945278167725]"
            ]
          },
          "metadata": {},
          "execution_count": 38
        }
      ]
    },
    {
      "cell_type": "code",
      "source": [
        "y_predictions.shape"
      ],
      "metadata": {
        "colab": {
          "base_uri": "https://localhost:8080/"
        },
        "id": "WRq-uVLC_B7_",
        "outputId": "1296cf33-02d4-4467-8d9a-1957cecfcc1d"
      },
      "execution_count": null,
      "outputs": [
        {
          "output_type": "execute_result",
          "data": {
            "text/plain": [
              "(60, 1)"
            ]
          },
          "metadata": {},
          "execution_count": 39
        }
      ]
    },
    {
      "cell_type": "code",
      "source": [
        "y_test.shape"
      ],
      "metadata": {
        "colab": {
          "base_uri": "https://localhost:8080/"
        },
        "id": "f5JEK8jP_GnD",
        "outputId": "c6cd4746-1646-4877-c811-be1c6e4e8fd4"
      },
      "execution_count": null,
      "outputs": [
        {
          "output_type": "execute_result",
          "data": {
            "text/plain": [
              "(60,)"
            ]
          },
          "metadata": {},
          "execution_count": 40
        }
      ]
    },
    {
      "cell_type": "code",
      "source": [
        "#using MAE\n",
        "mae= tf.metrics.mean_absolute_error(y_test,tf.squeeze(y_predictions))\n",
        "mae"
      ],
      "metadata": {
        "colab": {
          "base_uri": "https://localhost:8080/"
        },
        "id": "s0deQofk5AIm",
        "outputId": "3e4dbf88-0bb3-44c1-b163-b623a3b65bb8"
      },
      "execution_count": null,
      "outputs": [
        {
          "output_type": "execute_result",
          "data": {
            "text/plain": [
              "<tf.Tensor: shape=(), dtype=float32, numpy=2.6379945>"
            ]
          },
          "metadata": {},
          "execution_count": 41
        }
      ]
    },
    {
      "cell_type": "code",
      "source": [
        "#using MSE\n",
        "mse= tf.metrics.mean_squared_error(y_test,tf.squeeze(y_predictions))\n",
        "mse"
      ],
      "metadata": {
        "colab": {
          "base_uri": "https://localhost:8080/"
        },
        "id": "yaYX4baf_BWN",
        "outputId": "6adc7d41-8292-48cc-c49e-2e8994e5382c"
      },
      "execution_count": null,
      "outputs": [
        {
          "output_type": "execute_result",
          "data": {
            "text/plain": [
              "<tf.Tensor: shape=(), dtype=float32, numpy=10.076193>"
            ]
          },
          "metadata": {},
          "execution_count": 42
        }
      ]
    },
    {
      "cell_type": "code",
      "source": [
        "history.history"
      ],
      "metadata": {
        "colab": {
          "base_uri": "https://localhost:8080/"
        },
        "id": "55nY7ry5BSDF",
        "outputId": "47e2a9c4-a9e9-46ab-8cb6-613d0fcbb295"
      },
      "execution_count": null,
      "outputs": [
        {
          "output_type": "execute_result",
          "data": {
            "text/plain": [
              "{'loss': [40.34300231933594,\n",
              "  25.438203811645508,\n",
              "  9.833416938781738,\n",
              "  4.687566757202148,\n",
              "  3.8329970836639404,\n",
              "  3.2243638038635254,\n",
              "  2.6759982109069824,\n",
              "  2.4775984287261963,\n",
              "  2.4644973278045654,\n",
              "  2.4096853733062744],\n",
              " 'mae': [40.34300231933594,\n",
              "  25.438203811645508,\n",
              "  9.833416938781738,\n",
              "  4.687566757202148,\n",
              "  3.8329970836639404,\n",
              "  3.2243638038635254,\n",
              "  2.6759982109069824,\n",
              "  2.4775984287261963,\n",
              "  2.4644973278045654,\n",
              "  2.4096853733062744]}"
            ]
          },
          "metadata": {},
          "execution_count": 48
        }
      ]
    },
    {
      "cell_type": "code",
      "source": [
        "epochs = 10\n",
        "x_range = range(1,epochs+1)\n",
        "loss = history.history['loss']\n",
        "plt.xlabel('Epochs')\n",
        "plt.ylabel('Loss')\n",
        "plt.plot(x_range,loss)\n",
        "plt.show()"
      ],
      "metadata": {
        "colab": {
          "base_uri": "https://localhost:8080/",
          "height": 449
        },
        "id": "fBA7NdnlAsNt",
        "outputId": "65d842c7-30d0-4da3-cbf7-763732d9689a"
      },
      "execution_count": null,
      "outputs": [
        {
          "output_type": "display_data",
          "data": {
            "text/plain": [
              "<Figure size 640x480 with 1 Axes>"
            ],
            "image/png": "[encoded data removed]"
          },
          "metadata": {}
        }
      ]
    },
    {
      "cell_type": "code",
      "source": [
        "for layer in model.layers:\n",
        "  weights = layer.get_weights()[0]\n",
        "  biases = layer.get_weights()[1]\n",
        "  print(f'\\nweights:\\n {weights} \\nBiases:\\n {biases}')"
      ],
      "metadata": {
        "colab": {
          "base_uri": "https://localhost:8080/"
        },
        "id": "yKje1JfWBp3Q",
        "outputId": "964b3e31-8c3b-4815-e71b-1fda11afe602"
      },
      "execution_count": null,
      "outputs": [
        {
          "output_type": "stream",
          "name": "stdout",
          "text": [
            "\n",
            "weights:\n",
            "[[-0.04005352  0.28466472 -0.24235371 -0.0748601  -0.14234357  0.13798107\n",
            "   0.15784599 -0.20254996 -0.07896072 -0.09026456 -0.25044212 -0.30249447\n",
            "  -0.06134335 -0.19972515  0.2182568  -0.18303733  0.27502152  0.16992979\n",
            "   0.17125645  0.05216242 -0.12599607 -0.28940335 -0.12065452 -0.24914959\n",
            "   0.27999705 -0.18753399 -0.23734923  0.02733563  0.18761253 -0.20342104\n",
            "  -0.06970204 -0.14373386 -0.26989025  0.15989158  0.09413006  0.20256564\n",
            "   0.27270755  0.1929871  -0.04913496  0.19102365  0.18721032 -0.03672398\n",
            "  -0.11661687  0.01309148  0.19471093 -0.2991712  -0.15656538  0.07146533\n",
            "  -0.260105    0.14729176 -0.14483912  0.23955074  0.23295245  0.11219472\n",
            "  -0.16742732  0.17202128  0.08729744  0.22146237  0.13028301  0.1693134\n",
            "  -0.20516932 -0.25963777 -0.1500985   0.24827853]] \n",
            "Biases:\n",
            " [ 0.0284839   0.02199838 -0.02239423 -0.02198131  0.02446548 -0.02274119\n",
            "  0.01966681 -0.01910427 -0.02221446  0.02310422 -0.02184846 -0.02096557\n",
            "  0.02344142  0.02259725  0.02010598 -0.0180028  -0.02367136 -0.02913943\n",
            "  0.02052359  0.02190085 -0.02163887 -0.02172158 -0.01962972  0.01813017\n",
            "  0.02076967 -0.02080148 -0.02212511  0.02059526  0.02107    -0.02201207\n",
            "  0.02891815 -0.02177195  0.02255438  0.02134883  0.02036523  0.01986538\n",
            "  0.02154115 -0.02937795 -0.02216034  0.02160222  0.02076582  0.00628532\n",
            "  0.02363087 -0.02385333  0.02178677 -0.02234703 -0.02044079 -0.02905687\n",
            "  0.02702321  0.02208825  0.01743491  0.02102472  0.00684215 -0.02509858\n",
            " -0.02092138 -0.02435203 -0.02843183 -0.02818648  0.02121702  0.01914576\n",
            "  0.02329997 -0.02173886  0.02493162  0.02193221]\n",
            "\n",
            "weights:\n",
            "[[-1.33338138e-01  1.64781198e-01 -1.47575468e-01  1.08224424e-02\n",
            "  -6.41573220e-02 -1.45186424e-01  8.87778103e-02  1.65573522e-01\n",
            "  -7.45538026e-02  2.55163908e-01]\n",
            " [ 2.37978801e-01 -9.68948603e-02  1.56932801e-01  2.22999275e-01\n",
            "  -3.04062933e-01  1.98546767e-01  5.64420708e-02 -1.10788047e-01\n",
            "  -1.27860799e-01 -9.53357443e-02]\n",
            " [-1.93309650e-01  2.12751962e-02  1.40878081e-01 -2.55154401e-01\n",
            "   4.71814573e-02 -2.71294028e-01 -1.13303103e-01 -1.76192801e-02\n",
            "  -2.51326144e-01 -3.02430391e-01]\n",
            " [-1.02181382e-01  8.10210183e-02 -1.54959440e-01 -1.40801385e-01\n",
            "   1.27553776e-01 -2.03038022e-01 -7.50118867e-02  1.47234440e-01\n",
            "  -8.09808597e-02 -2.92986721e-01]\n",
            " [-2.71252364e-01  5.80137037e-02  1.84426010e-01  1.22447714e-01\n",
            "  -6.56989738e-02  1.35584876e-01 -2.12379061e-02 -1.59613505e-01\n",
            "  -8.01264588e-03 -5.26595023e-03]\n",
            " [ 8.98549855e-02  1.30469039e-01 -2.74762481e-01  6.15097322e-02\n",
            "  -6.95192963e-02 -1.95891038e-01 -1.77291512e-01  5.76571971e-02\n",
            "   3.04325297e-02  2.26036921e-01]\n",
            " [-1.70328363e-03 -1.35537460e-01  2.45006140e-02  1.21261142e-01\n",
            "  -2.87539870e-01 -4.19505164e-02 -9.62170288e-02  1.22413635e-01\n",
            "   2.37128064e-02 -5.29377609e-02]\n",
            " [-1.45379484e-01 -2.25435466e-01  8.50190967e-02  2.03235373e-01\n",
            "  -2.48065785e-01 -2.98885524e-01 -2.65257329e-01 -2.25023985e-01\n",
            "  -2.01443359e-01 -2.43946314e-01]\n",
            " [-2.09043637e-01  2.99720436e-01  2.76619881e-01 -9.98095274e-02\n",
            "   1.20370090e-03 -9.03762802e-02 -2.63880342e-01  8.35749954e-02\n",
            "   9.43026245e-02 -1.36349514e-01]\n",
            " [-1.11216128e-01 -2.11943865e-01 -1.99819431e-01 -6.49332702e-02\n",
            "  -1.92531064e-01  1.09784916e-01 -2.53080368e-01 -6.27029762e-02\n",
            "   1.07096136e-01  1.89708576e-01]\n",
            " [-3.04404557e-01  1.59148816e-02 -4.08984274e-02 -2.67626435e-01\n",
            "   2.47316450e-01  1.99820340e-01 -2.42907450e-01 -1.55563414e-01\n",
            "   9.22033191e-02 -9.40720923e-03]\n",
            " [-1.41324937e-01 -7.82344267e-02  1.75751895e-01 -5.43586612e-02\n",
            "  -2.03818232e-01 -2.32615188e-01 -2.52625585e-01 -2.12372422e-01\n",
            "   4.84702550e-02  8.30059126e-02]\n",
            " [-4.81970385e-02 -7.38121271e-02  1.75577223e-01 -1.65945068e-01\n",
            "  -2.33461205e-02  4.04339992e-02  2.49421090e-01  2.52256811e-01\n",
            "   1.29183426e-01  6.16803616e-02]\n",
            " [ 8.16273466e-02 -7.64530450e-02 -2.07880273e-01  1.52884364e-01\n",
            "  -1.89348727e-01 -1.08883142e-01  5.36858812e-02  1.07674673e-01\n",
            "   1.89747706e-01 -2.43864775e-01]\n",
            " [ 1.39147535e-01  1.03185788e-01  1.22496948e-01  2.69053727e-01\n",
            "   9.67509598e-02 -1.62989467e-01  4.88487352e-03 -1.91295013e-01\n",
            "   4.67278138e-02  1.45976081e-01]\n",
            " [-1.73205063e-01 -1.13988936e-01 -2.00342104e-01 -1.71141610e-01\n",
            "   2.72884458e-01 -1.97678879e-01 -2.59445589e-02 -2.52527654e-01\n",
            "   2.23905832e-01 -1.85324341e-01]\n",
            " [ 2.39381269e-01  2.09767282e-01  2.13153765e-01 -1.19012512e-01\n",
            "   1.25826299e-01  1.52712002e-01 -1.74145460e-01  5.65185882e-02\n",
            "  -2.14428142e-01 -1.13705009e-01]\n",
            " [ 1.43861681e-01 -1.05926141e-01 -5.89661375e-02  2.47920662e-01\n",
            "   2.11459771e-01 -2.17734501e-01 -9.57087949e-02 -2.40082711e-01\n",
            "  -6.86561018e-02  1.77973304e-02]\n",
            " [ 2.55479276e-01  9.42097679e-02 -7.84550458e-02  1.99786484e-01\n",
            "   2.08267003e-01 -1.36767715e-01  2.59803444e-01  1.46157131e-01\n",
            "   6.43792897e-02 -1.62643075e-01]\n",
            " [-2.04425320e-01 -2.47352168e-01 -6.25262111e-02 -2.26111725e-01\n",
            "  -2.65070707e-01  5.51109947e-02  2.95878559e-01 -5.36356829e-02\n",
            "   1.67923808e-01  1.03746084e-02]\n",
            " [-1.38006538e-01 -1.54821560e-01  7.68392012e-02  6.38173223e-02\n",
            "   6.62489831e-02 -2.09419757e-01 -2.02594563e-01  2.83391960e-02\n",
            "   9.18177068e-02 -1.33547157e-01]\n",
            " [-5.45473173e-02  2.92479753e-01 -1.18788831e-01 -5.17884046e-02\n",
            "  -1.86142609e-01 -2.73402810e-01 -2.62115926e-01  2.76149571e-01\n",
            "  -1.05207730e-02  1.18129343e-01]\n",
            " [-2.93086946e-01  1.28886208e-01  4.28874092e-03 -4.40684408e-02\n",
            "   1.21004932e-01 -3.02890629e-01  1.34696782e-01 -2.03745738e-02\n",
            "   2.51185983e-01 -7.18091950e-02]\n",
            " [-2.18224555e-01 -1.32611349e-01 -1.81174114e-01 -1.47319540e-01\n",
            "  -1.94574013e-01 -2.63112813e-01  2.02788904e-01  1.38344646e-01\n",
            "  -1.55483454e-01 -1.37337595e-01]\n",
            " [-1.76603660e-01  5.56013137e-02 -2.84504220e-02  2.02795953e-01\n",
            "  -1.75245851e-02 -2.32124776e-02  2.07660630e-01  2.15039939e-01\n",
            "   1.57643519e-02  8.77479389e-02]\n",
            " [-3.50951664e-02  2.47869149e-01 -2.46025518e-01 -1.57863095e-01\n",
            "   1.75279066e-01  1.19059779e-01 -2.50758767e-01 -4.88908775e-02\n",
            "   1.31949797e-01 -2.79852837e-01]\n",
            " [-2.86131173e-01  1.86926976e-01 -2.26349548e-01 -1.04545198e-01\n",
            "   1.14168808e-01 -7.14769736e-02 -1.34107575e-01  2.26439551e-01\n",
            "  -3.08788627e-01 -3.17770219e-03]\n",
            " [ 2.75939018e-01 -1.00105908e-03 -2.78965175e-01  2.62723744e-01\n",
            "   1.85931906e-01 -8.79605785e-02  2.09342808e-01  1.79471940e-01\n",
            "  -2.47934550e-01 -2.01708063e-01]\n",
            " [ 2.12965012e-01 -2.39135981e-01  8.08930695e-02  2.12689817e-01\n",
            "   1.43858895e-01  1.20374136e-01  1.46800756e-01  1.78698942e-01\n",
            "  -7.87803903e-03  2.74367452e-01]\n",
            " [-8.49834979e-02  6.59188777e-02  1.14850819e-01  3.15006226e-02\n",
            "   1.04230627e-01 -2.80346602e-01 -4.48087491e-02  1.93676859e-01\n",
            "   4.26233374e-02 -2.58072555e-01]\n",
            " [-2.71093130e-01  1.97813123e-01  1.82263941e-01  2.00550094e-01\n",
            "   1.33201331e-01  1.00245275e-01  7.56056830e-02 -1.68839648e-01\n",
            "   1.99780650e-02 -2.93993920e-01]\n",
            " [-2.81508625e-01 -1.68424964e-01  1.46708330e-02  2.34144002e-01\n",
            "   1.01175196e-01 -2.82965273e-01 -2.13160768e-01  1.25486448e-01\n",
            "  -5.76490276e-02  7.74275735e-02]\n",
            " [-2.56689668e-01  3.55460756e-02 -4.59319688e-02  1.04527794e-01\n",
            "  -2.50968665e-01  5.64119667e-02  9.38045699e-03 -2.49184445e-01\n",
            "  -9.99392122e-02  1.03568174e-01]\n",
            " [-4.89151776e-02 -2.50279587e-02  1.10985093e-01  9.33587626e-02\n",
            "  -2.17482552e-01 -3.42011563e-02  1.58719122e-01 -1.94227815e-01\n",
            "  -1.80774271e-01  1.46147832e-01]\n",
            " [ 2.05177650e-01  1.74972787e-01  2.26205990e-01  3.53961103e-02\n",
            "  -1.74689456e-03  1.47303388e-01  2.67586857e-01  1.81680754e-01\n",
            "   1.90264329e-01 -2.05659211e-01]\n",
            " [ 1.45967335e-01 -2.42520452e-01  1.92735359e-01 -1.77829772e-01\n",
            "  -1.92609519e-01  1.80504680e-01 -1.24088734e-01 -2.83312291e-01\n",
            "  -2.55821506e-03  2.89303035e-01]\n",
            " [ 1.25139579e-01  1.09869197e-01  1.64724723e-03  1.17294200e-01\n",
            "  -3.63097899e-02  1.89261526e-01 -5.36558405e-02 -2.96723783e-01\n",
            "  -3.02762948e-02 -2.58984447e-01]\n",
            " [ 2.94247538e-01  2.08794266e-01  1.57373324e-01 -2.47872025e-01\n",
            "   1.21502310e-01  1.55695364e-01  1.43954739e-01 -1.46285698e-01\n",
            "   1.31154656e-01  2.86658593e-02]\n",
            " [ 1.89951077e-01  2.06925213e-01 -7.76783824e-02 -1.91201672e-01\n",
            "   2.91124225e-01 -2.11522564e-01 -2.24343404e-01  6.24005683e-02\n",
            "   1.06088044e-02 -7.04526454e-02]\n",
            " [ 2.25311354e-01 -1.29718199e-01  1.51623681e-01  1.61853224e-01\n",
            "  -2.40519613e-01 -7.76562765e-02  5.31329885e-02 -2.64008552e-01\n",
            "  -1.42897382e-01 -1.05343061e-02]\n",
            " [-4.76990044e-02 -2.04481766e-01  1.48791775e-01  4.67407256e-02\n",
            "  -7.93599114e-02  2.13258056e-04  1.83584690e-01 -8.07868764e-02\n",
            "   5.97817525e-02 -1.54880360e-01]\n",
            " [-2.66800791e-01 -2.17965096e-02 -2.34238192e-01  1.52939573e-01\n",
            "  -4.31042910e-02 -1.37726858e-01 -2.57491231e-01 -5.34987301e-02\n",
            "  -1.06145248e-01 -5.14400192e-02]\n",
            " [-1.14116274e-01 -1.24308810e-01  2.57829249e-01 -1.27339110e-01\n",
            "  -1.81314901e-01  2.56460309e-01  9.77839008e-02 -2.15138748e-01\n",
            "  -6.99526593e-02 -1.83375835e-01]\n",
            " [ 7.64167085e-02 -1.38715148e-01  1.98821113e-01 -2.26151407e-01\n",
            "   1.78021550e-01  5.91176078e-02 -2.03127936e-01 -1.48138270e-01\n",
            "  -1.39323339e-01 -1.99169055e-01]\n",
            " [ 7.44815767e-02 -2.60410607e-01  1.05422862e-01 -1.31491513e-03\n",
            "  -1.86405644e-01  6.41932562e-02 -1.21396780e-01 -2.02414662e-01\n",
            "   2.81529188e-01  2.72753775e-01]\n",
            " [ 6.57658577e-02  2.94757277e-01  2.94633299e-01  1.27022877e-01\n",
            "   2.11650461e-01 -1.41911641e-01 -7.04208910e-02  2.77921766e-01\n",
            "  -2.30102241e-01 -2.70603955e-01]\n",
            " [-1.31048962e-01  2.24327058e-01 -4.55512814e-02  1.82296589e-01\n",
            "   2.54220039e-01  3.77886444e-02 -2.42892668e-01 -1.93955511e-01\n",
            "  -9.41583887e-02  8.84646997e-02]\n",
            " [ 6.32376224e-02 -2.56854128e-02 -2.46781006e-01  9.79851652e-03\n",
            "  -1.32433251e-02 -1.81031734e-01 -1.82128251e-01 -9.84307677e-02\n",
            "  -9.45380796e-03  9.46909115e-02]\n",
            " [ 1.16782278e-01 -1.17740855e-01 -2.02231063e-03 -2.99315691e-01\n",
            "  -1.35839328e-01  7.35935420e-02  2.26865813e-01  2.50726372e-01\n",
            "   2.01974856e-03 -2.74283588e-01]\n",
            " [ 9.68428329e-02 -2.28269354e-01  8.38812813e-02  1.75488740e-01\n",
            "  -1.90124154e-01  1.81448936e-01  2.23392472e-01 -2.02690512e-01\n",
            "  -2.17423052e-01  2.63908625e-01]\n",
            " [ 2.49601543e-01 -1.26637220e-01 -2.43004724e-01 -2.61334348e-02\n",
            "   2.40175217e-01 -1.81918442e-01  1.65542290e-01  2.70547241e-01\n",
            "  -6.61045611e-02  8.29259008e-02]\n",
            " [ 1.60984904e-01 -1.82581529e-01  1.73687056e-01  1.25371009e-01\n",
            "  -3.02627146e-01  2.41828367e-01 -1.89619884e-01  2.44584441e-01\n",
            "   1.91952169e-01 -5.22830226e-02]\n",
            " [ 1.68081120e-01 -2.75286466e-01 -3.05452138e-01  1.34192988e-01\n",
            "   1.86623707e-01 -2.42745414e-01 -1.53219765e-02  9.50670689e-02\n",
            "   1.25838509e-02  1.69156894e-01]\n",
            " [ 1.76899345e-03 -2.51873098e-02  1.82244435e-01  1.50097728e-01\n",
            "   5.87097071e-02 -4.27214094e-02 -6.44710362e-02  4.83291112e-02\n",
            "  -1.40841901e-02  1.27706498e-01]\n",
            " [ 1.80112556e-01 -1.52793244e-01 -2.09411353e-01  8.22270736e-02\n",
            "   2.37165511e-01 -1.99400842e-01 -1.03193276e-01  2.40872934e-01\n",
            "   5.86892068e-02 -2.23943442e-01]\n",
            " [ 2.52003729e-01 -4.78990600e-02  7.44968355e-02 -1.71851844e-01\n",
            "   3.84097397e-02 -5.22690080e-02  1.52278692e-01  2.57778853e-01\n",
            "   2.49625575e-02 -1.55390799e-01]\n",
            " [-7.20050707e-02  4.82734144e-02  2.29065314e-01  1.34036168e-01\n",
            "   1.52550768e-02 -1.44784525e-01  1.12433188e-01 -1.16730392e-01\n",
            "   9.05515403e-02  3.37453596e-02]\n",
            " [ 2.57641882e-01  1.31723881e-01 -2.72535682e-01 -3.17581445e-02\n",
            "   8.63736868e-02  2.02129204e-02 -2.35100519e-02 -1.84102431e-01\n",
            "  -2.35440418e-01 -2.59869695e-01]\n",
            " [-9.41556320e-02 -1.05985261e-01 -4.45305333e-02  2.55297534e-02\n",
            "  -2.46627435e-01  2.18352139e-01 -3.75712179e-02  6.21624440e-02\n",
            "  -4.69269715e-02  1.01056518e-02]\n",
            " [ 2.65955448e-01  2.36178279e-01  1.95753261e-01  2.80323833e-01\n",
            "  -3.03718865e-01 -1.15057699e-01 -1.72366530e-01  1.78473443e-01\n",
            "   2.06010878e-01 -1.80477381e-01]\n",
            " [-4.98243496e-02 -4.13262360e-02 -5.33212489e-03  1.32223442e-01\n",
            "  -1.20430678e-01 -1.92913935e-01 -9.60463434e-02 -4.27855030e-02\n",
            "   2.32613310e-01  1.59144357e-01]\n",
            " [-1.64872512e-01 -7.72250444e-02  2.20377147e-01 -1.94605187e-01\n",
            "  -1.77425072e-01 -2.56466746e-01 -1.79856867e-01 -6.01773225e-02\n",
            "   1.92943081e-01  4.64463644e-02]\n",
            " [ 1.68173552e-01 -1.75975010e-01  1.86496437e-01  1.35957132e-04\n",
            "   2.28340194e-01  2.40153834e-01  2.58536398e-01  2.62301713e-01\n",
            "   8.54972601e-02  6.40537366e-02]\n",
            " [-2.40560055e-01  1.09086029e-01  1.48082942e-01  2.56487876e-01\n",
            "  -1.24511205e-01  1.97969377e-01  1.24926426e-01  2.82905344e-02\n",
            "   1.36494949e-01  1.98391125e-01]] \n",
            "Biases:\n",
            " [ 0.02266978 -0.02229585 -0.02301923  0.02281965 -0.02280382  0.0227713\n",
            "  0.02279402 -0.02277012  0.02298212  0.02252485]\n",
            "\n",
            "weights:\n",
            "[[ 0.2646817 ]\n",
            " [-0.14474212]\n",
            " [-0.5340145 ]\n",
            " [ 0.69313216]\n",
            " [-0.62409204]\n",
            " [ 0.48062637]\n",
            " [ 0.675034  ]\n",
            " [-0.4747344 ]\n",
            " [ 0.4565103 ]\n",
            " [ 0.18590423]] \n",
            "Biases:\n",
            " [0.02291419]\n"
          ]
        }
      ]
    }
  ]
}